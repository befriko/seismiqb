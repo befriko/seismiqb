{
 "cells": [
  {
   "cell_type": "code",
   "execution_count": null,
   "metadata": {},
   "outputs": [],
   "source": [
    "!nvidia-smi"
   ]
  },
  {
   "cell_type": "code",
   "execution_count": null,
   "metadata": {},
   "outputs": [],
   "source": [
    "# Necessary imports\n",
    "import os\n",
    "import sys\n",
    "import warnings\n",
    "from datetime import date\n",
    "import matplotlib.pyplot as plt\n",
    "warnings.filterwarnings(\"ignore\")\n",
    "\n",
    "import numpy as np\n",
    "import torch\n",
    "from torch import nn\n",
    "\n",
    "from sklearn.linear_model import LinearRegression\n",
    "from skimage.metrics import structural_similarity as ssim, peak_signal_noise_ratio, mean_squared_error\n",
    "\n",
    "sys.path.append('../../seismiqb')\n",
    "from seismiqb import SyntheticGenerator\n",
    "from seismiqb import SeismicDataset, SeismicCropBatch, SeismicSampler\n",
    "from seismiqb import plot_image, plot_loss\n",
    "\n",
    "from seismiqb.batchflow import Dataset, Pipeline, NumpySampler as NS, B, C, V, P, R, I, M\n",
    "from seismiqb.batchflow import set_gpus, get_notebook_name\n",
    "from seismiqb.batchflow.models.torch import EncoderDecoder, ResBlock\n",
    "\n",
    "\n",
    "from utils import make_data, impedance_to_seismic, adjust_seismic,\\\n",
    "                  normalize_seismic, normalize_impedance, denormalize_impedance,\\\n",
    "                  compute_metric, show_results_real, show_result_synthetic, show_progress\n",
    "# Set GPU\n",
    "set_gpus(n=1);"
   ]
  },
  {
   "cell_type": "markdown",
   "metadata": {},
   "source": [
    "# Global definition"
   ]
  },
  {
   "cell_type": "code",
   "execution_count": null,
   "metadata": {},
   "outputs": [],
   "source": [
    "SYNTHETIC_SHAPE = (128, 256)\n",
    "SHAPE = (1, *SYNTHETIC_SHAPE)\n",
    "\n",
    "BATCH_SIZE = 32\n",
    "REAL_BATCH_SIZE = 256\n",
    "N_ITERS = 15000\n",
    "TEST_FREQUENCY = 100\n",
    "\n",
    "SAVE_DIR = date.today().strftime(\"%Y-%m-%d\") + '_' + get_notebook_name().upper()\n",
    "!rm -rf {SAVE_DIR}\n",
    "os.mkdir(SAVE_DIR)"
   ]
  },
  {
   "cell_type": "markdown",
   "metadata": {},
   "source": [
    "# Load real data"
   ]
  },
  {
   "cell_type": "code",
   "execution_count": null,
   "metadata": {},
   "outputs": [],
   "source": [
    "%%time\n",
    "index = {\n",
    "    '/notebooks/repos/seismic_data/seismic_interpretation/CUBE_02_M/amplitudes_02_M.qhdf5' : '~/INPUTS/HORIZONS/RAW/*',\n",
    "#     '/data/seismic_data/seismic_interpretation/002_M/002_M.qblosc' : '~/INPUTS/HORIZONS/FINAL/*',\n",
    "#     '/data/seismic_data/seismic_interpretation/001_YETYPUR/001_YETYPUR.qblosc' : '~/INPUTS/HORIZONS/FINAL/*',\n",
    "}\n",
    "\n",
    "real_dataset = SeismicDataset(index, labels_class='horizon')\n",
    "\n",
    "real_sampler = SeismicSampler(labels=real_dataset.labels, crop_shape=SHAPE,\n",
    "                              threshold=0.7, shift_height=(0.9, 0.1), mode='horizon')\n",
    "\n",
    "real_pipeline = (\n",
    "    Pipeline()\n",
    "    .make_locations(generator=real_sampler, batch_size=C('batch_size', default=REAL_BATCH_SIZE))\n",
    "    .create_masks(dst='masks', width=4)\n",
    "    .mask_rebatch(src='masks', threshold=0.3)\n",
    "    .load_cubes(dst='images')\n",
    "    .adaptive_reshape(src=['images', 'masks'])\n",
    ") << real_dataset\n",
    "\n",
    "BIG_BATCH = real_pipeline.set_config({'batch_size' : 1000}).next_batch()\n",
    "FIXED_BATCH = real_pipeline.set_config({'batch_size' : REAL_BATCH_SIZE}).next_batch()"
   ]
  },
  {
   "cell_type": "markdown",
   "metadata": {},
   "source": [
    "# Data generation parameters"
   ]
  },
  {
   "cell_type": "code",
   "execution_count": null,
   "metadata": {},
   "outputs": [],
   "source": [
    "def parameter_generator():\n",
    "    # Horizons\n",
    "    n_reflections = np.random.randint(low=25, high=50)\n",
    "    horizon_n = np.random.randint(low=1, high=6)\n",
    "    horizon_heights = np.random.uniform(low=0.05, high=0.95, size=horizon_n)\n",
    "    horizon_multipliers = np.random.choice(list(range(-13, -7)) + list(range(9, 16)), size=horizon_n, replace=False)\n",
    "    \n",
    "    \n",
    "    # Impedance creation\n",
    "    grid_size = np.random.randint(low=5, high=10)\n",
    "    \n",
    "    # Conversion to seismic\n",
    "    ricker_width = np.random.uniform(low=3.3, high=5.5)\n",
    "    ricker_points = np.random.randint(low=50, high=130)\n",
    "    noise_mul = np.random.uniform(low=0.1, high=0.3)\n",
    "    \n",
    "    params = {\n",
    "        # Horizons\n",
    "        'num_reflections' : n_reflections,\n",
    "        'horizon_n' : horizon_n,\n",
    "        'horizon_height' : horizon_heights,\n",
    "        'horizon_multipliers': horizon_multipliers,\n",
    "\n",
    "        # Faults\n",
    "\n",
    "        # Impedance creation\n",
    "        'grid_size' : grid_size,\n",
    "\n",
    "        # Conversion to seismic\n",
    "        'ricker_width' : ricker_width,\n",
    "        'ricker_points' : ricker_points,\n",
    "        'noise_mul' : noise_mul,\n",
    "    }\n",
    "    return params"
   ]
  },
  {
   "cell_type": "markdown",
   "metadata": {},
   "source": [
    "# Normalization / denormalization parameters"
   ]
  },
  {
   "cell_type": "code",
   "execution_count": null,
   "metadata": {},
   "outputs": [],
   "source": [
    "%%time\n",
    "synthetic, impedance = make_data(1000, SYNTHETIC_SHAPE, parameter_generator)\n",
    "IMPEDANCE_MEAN, IMPEDANCE_STD = impedance.mean(), impedance.std()\n",
    "\n",
    "\n",
    "SYNTHETIC_SEISMIC_NORMALIZATION_MODE = {'function': 'mean-std'}\n",
    "REAL_SEISMIC_NORMALIZATION_MODE = {'function': 'mean-std'}\n",
    "\n",
    "# IMPEDANCE_NORMALIZATION_MODE = {'function': 'mean-std'}\n",
    "IMPEDANCE_NORMALIZATION_MODE = {'function': 'global_mean-std',\n",
    "                                'mean' : IMPEDANCE_MEAN,\n",
    "                                'std' : IMPEDANCE_STD}\n",
    "IMPEDANCE_DENORMALIZATION_MODE = {'function': 'mean-std',\n",
    "                                  'mean' : IMPEDANCE_MEAN,\n",
    "                                  'std' : IMPEDANCE_STD}"
   ]
  },
  {
   "cell_type": "markdown",
   "metadata": {},
   "source": [
    "# Model architecture"
   ]
  },
  {
   "cell_type": "code",
   "execution_count": null,
   "metadata": {},
   "outputs": [],
   "source": [
    "from networks import ResNet\n",
    "model = ResNet(start_channels=16, factor=2, kernel_size=(5, 5), padding=2)\n",
    "\n",
    "MODEL_CONFIG = {\n",
    "    'order': ['body'],\n",
    "    'body': model,\n",
    "\n",
    "    'loss': 'l1',\n",
    "    'optimizer': {'name': 'Adam', 'lr': 0.0005},\n",
    "\n",
    "    'benchmark': False,\n",
    "    'amp': False,\n",
    "}"
   ]
  },
  {
   "cell_type": "markdown",
   "metadata": {},
   "source": [
    "# Load pipeline"
   ]
  },
  {
   "cell_type": "code",
   "execution_count": null,
   "metadata": {},
   "outputs": [],
   "source": [
    "logging = {\n",
    "    'iteration': I(),\n",
    "    'show' : False,\n",
    "    'savedir' : SAVE_DIR,\n",
    "    'trigger' : (I() % TEST_FREQUENCY == 0),\n",
    "}\n",
    "\n",
    "train_pipeline = (\n",
    "    Pipeline()\n",
    "    # Initialize pipeline variables and model\n",
    "    .init_variable('loss_history', [])\n",
    "    .init_variable('ssim_on_fixed_real', [0.0])\n",
    "    .init_variable('ssim_on_random_real', [0.0])\n",
    "    .init_model(name='model', model_class=EncoderDecoder, config=MODEL_CONFIG)\n",
    "\n",
    "    # Load data/masks\n",
    "    .make_data(size=B.size, synthetic_shape=SYNTHETIC_SHAPE,\n",
    "               **samplers, save_to=(B.images, B.impedance))\n",
    "    \n",
    "    .normalize_seismic(array=B('images'), **SYNTHETIC_SEISMIC_NORMALIZATION_MODE,\n",
    "                       save_to=B('images'))\n",
    "    .normalize_impedance(array=B('impedance'), **IMPEDANCE_NORMALIZATION_MODE,\n",
    "                         save_to=B('impedance'))\n",
    "\n",
    "    # Augmentations\n",
    "#     .transpose(src=['images', 'impedance'], order=(1, 2, 0))\n",
    "#     .flip(axis=0, src=['images', 'impedance'],\n",
    "#           seed=P(R('uniform', 0, 1)), p=0.3)\n",
    "#     .flip(axis=1, src=['images', 'impedance'],\n",
    "#           seed=P(R('uniform', 0, 1)), p=0.3)\n",
    "#     .transpose(src=['images', 'impedance'], order=(2, 0, 1))\n",
    "\n",
    "    # Training\n",
    "    .train_model('model',\n",
    "                 fetches='loss',\n",
    "                 images=B('images'),\n",
    "                 masks=B('impedance'),\n",
    "                 save_to=V('loss_history', mode='a'))\n",
    "\n",
    "    # Compute metrics\n",
    "    .compute_metric(model=M('model'), batch=FIXED_BATCH,\n",
    "                    seismic_normalize=REAL_SEISMIC_NORMALIZATION_MODE,\n",
    "                    impedance_denormalize=IMPEDANCE_DENORMALIZATION_MODE,\n",
    "                    **logging, save_to=V('ssim_on_fixed_real', mode='a'))\n",
    "\n",
    "    .compute_metric(model=M('model'), pipeline=real_pipeline,\n",
    "                    seismic_normalize=REAL_SEISMIC_NORMALIZATION_MODE,\n",
    "                    impedance_denormalize=IMPEDANCE_DENORMALIZATION_MODE,\n",
    "                    **logging, save_to=V('ssim_on_random_real', mode='a'))\n",
    "    \n",
    "    .show_results_real(model=M('model'), batch=FIXED_BATCH,\n",
    "                       seismic_normalize=REAL_SEISMIC_NORMALIZATION_MODE,\n",
    "                       impedance_denormalize=IMPEDANCE_DENORMALIZATION_MODE,\n",
    "                       **logging)\n",
    "    .show_results_real(model=M('model'), pipeline=real_pipeline,\n",
    "                       seismic_normalize=REAL_SEISMIC_NORMALIZATION_MODE,\n",
    "                       impedance_denormalize=IMPEDANCE_DENORMALIZATION_MODE,\n",
    "                       **logging)\n",
    "    .show_result_synthetic(model=M('model'), batch=B(), **logging)\n",
    "    .show_progress(model=M('model'), metrics=V('ssim_on_random_real'), **logging)\n",
    ") << Dataset(100000, batch_class=SeismicCropBatch)"
   ]
  },
  {
   "cell_type": "code",
   "execution_count": null,
   "metadata": {},
   "outputs": [],
   "source": [
    "%%time\n",
    "SYNTHETIC_BATCH = train_pipeline.next_batch(BATCH_SIZE)"
   ]
  },
  {
   "cell_type": "code",
   "execution_count": null,
   "metadata": {},
   "outputs": [],
   "source": [
    "train_pipeline.m('model').iter_info"
   ]
  },
  {
   "cell_type": "code",
   "execution_count": null,
   "metadata": {},
   "outputs": [],
   "source": [
    "%%time\n",
    "train_pipeline.run(batch_size=BATCH_SIZE, n_iters=N_ITERS, ignore_exceptions=False,\n",
    "                   bar={'bar': 'n', 'frequency': 10,\n",
    "                        'graphs': ['loss_history', 'ssim_on_random_real', 'ssim_on_fixed_real', 'gpu']})\n",
    "\n",
    "plot_loss(train_pipeline.v('loss_history')[100:])"
   ]
  },
  {
   "cell_type": "markdown",
   "metadata": {},
   "source": [
    "# Validation synthetic"
   ]
  },
  {
   "cell_type": "code",
   "execution_count": null,
   "metadata": {},
   "outputs": [],
   "source": [
    "val_pipeline = (\n",
    "    Pipeline()\n",
    "    # Initialize pipeline variables and model\n",
    "    .import_model(name='model', source=train_pipeline)\n",
    "\n",
    "    # Load data/masks\n",
    "    .make_data(size=B.size, synthetic_shape=SYNTHETIC_SHAPE,\n",
    "               **samplers, save_to=(B.images, B.impedance))\n",
    "    \n",
    "    .normalize_seismic(array=B('images'), **SYNTHETIC_SEISMIC_NORMALIZATION_MODE,\n",
    "                       save_to=B('images'))\n",
    "    .normalize_impedance(array=B('impedance'), function=lambda array: array,\n",
    "                         save_to=B('impedance_original'))\n",
    "    .normalize_impedance(array=B('impedance'), **IMPEDANCE_NORMALIZATION_MODE,\n",
    "                         save_to=B('impedance'))\n",
    "    \n",
    "    # Predict with model\n",
    "    .predict_model('model',\n",
    "                   B('images'),\n",
    "                   fetches='predictions',\n",
    "                   save_to=B('predictions'))\n",
    "\n",
    ") << Dataset(100000, batch_class=SeismicCropBatch)"
   ]
  },
  {
   "cell_type": "code",
   "execution_count": null,
   "metadata": {},
   "outputs": [],
   "source": [
    "batch = val_pipeline.next_batch(32)"
   ]
  },
  {
   "cell_type": "code",
   "execution_count": null,
   "metadata": {},
   "outputs": [],
   "source": [
    "for idx in range(4):\n",
    "    # Make data\n",
    "    synthetic = batch.images[idx, 0, :, :]\n",
    "    true_impedance = batch.impedance[idx, 0, :, :]\n",
    "    predicted_impedance = batch.predictions[idx, 0, :, :]\n",
    "    diff_impedance = np.diff(predicted_impedance, axis=-1)\n",
    "    \n",
    "    denormalized_impedance = denormalize_impedance(predicted_impedance, **IMPEDANCE_DENORMALIZATION_MODE)\n",
    "    predicted_seismic = impedance_to_seismic(denormalized_impedance, ricker_width=4.3)\n",
    "    predicted_seismic = adjust_seismic(predicted_seismic, real=synthetic)\n",
    "    \n",
    "    ssim_coefficient = ssim(synthetic, predicted_seismic)\n",
    "\n",
    "    # Actual plot\n",
    "    plot_image([synthetic,\n",
    "                true_impedance, predicted_impedance,\n",
    "                diff_impedance, predicted_seismic],\n",
    "               separate=True, figsize=(24, 8),\n",
    "               title=['Synthetic',\n",
    "                      'True\\nimpedance', 'Predicted\\nimpedance',\n",
    "                      'Predicted\\nimpedance diff', 'Restored seismic'],\n",
    "               suptitle_label=f'idx={idx}\\nSSIM={ssim_coefficient:2.2f}',\n",
    "               labeltop=False, \n",
    "               cmap='gray', colorbar=True,)"
   ]
  },
  {
   "cell_type": "markdown",
   "metadata": {},
   "source": [
    "### Traces"
   ]
  },
  {
   "cell_type": "code",
   "execution_count": null,
   "metadata": {},
   "outputs": [],
   "source": [
    "width = SYNTHETIC_SHAPE[0]\n",
    "trace_nums = (width // 2,)\n",
    "\n",
    "\n",
    "for idx in range(4):\n",
    "    true_impedance = batch.impedance[idx, 0, :, :]\n",
    "    predicted_impedance = batch.predictions[idx, 0, :, :]\n",
    "    \n",
    "    true_impedance_diff = np.diff(true_impedance, axis=-1)\n",
    "    predicted_impedance_diff = np.diff(predicted_impedance, axis=-1)\n",
    "    \n",
    "    for trace_num in trace_nums:\n",
    "        # Make data\n",
    "        plot_data = [[true_impedance[trace_num],\n",
    "                      predicted_impedance[trace_num]],\n",
    "                     [true_impedance_diff[trace_num],\n",
    "                      predicted_impedance_diff[trace_num]]]\n",
    "\n",
    "        # Actual plot\n",
    "        plot_image(plot_data,\n",
    "                   mode='curve', figsize=(22, 4),\n",
    "                   xlabel='HEIGHT',\n",
    "                   ylabel=['Impedance', 'Impedance diff'],\n",
    "                   title=['Impedance', 'Impedance diff'],\n",
    "                   suptitle_label=f'idx={idx}, trace_num={trace_num}',\n",
    "                   legend_label=[['True', 'Prediction']] * 2)"
   ]
  },
  {
   "cell_type": "markdown",
   "metadata": {},
   "source": [
    "# Validation real (crops)"
   ]
  },
  {
   "cell_type": "code",
   "execution_count": null,
   "metadata": {},
   "outputs": [],
   "source": [
    "batch = real_pipeline.next_batch(32) # FIXED_BATCH\n",
    "batch.images = normalize_seismic(batch.images, **REAL_SEISMIC_NORMALIZATION_MODE)\n",
    "model = train_pipeline.m('model')\n",
    "\n",
    "# Make predictions and seismic\n",
    "seismic_images = batch.images\n",
    "horizon_masks = batch.masks\n",
    "predicted_impedance = model.predict(images=seismic_images, fetches='predictions')\n",
    "\n",
    "denormalized_impedance = denormalize_impedance(predicted_impedance, **IMPEDANCE_DENORMALIZATION_MODE)\n",
    "predicted_seismic = impedance_to_seismic(denormalized_impedance)"
   ]
  },
  {
   "cell_type": "code",
   "execution_count": null,
   "metadata": {},
   "outputs": [],
   "source": [
    "for idx in range(3):\n",
    "    field_name = batch.unsalt(batch.indices[idx])\n",
    "    \n",
    "    # Make data\n",
    "    seismic_image = seismic_images[idx, 0, :, :]\n",
    "    horizon_mask = horizon_masks[idx, 0, :, :]\n",
    "    predicted_impedance_ = predicted_impedance[idx, 0, :, :]\n",
    "    diff_impedance = np.diff(predicted_impedance_, axis=-1)\n",
    "    predicted_seismic_ = predicted_seismic[idx, :, :]\n",
    "    predicted_seismic_ = adjust_seismic(predicted_seismic_, real=seismic_image)\n",
    "    \n",
    "    ssim_coefficient = ssim(seismic_image, predicted_seismic_)\n",
    "\n",
    "    # Actual plot\n",
    "    plot_image([seismic_image, horizon_mask,\n",
    "                predicted_impedance_, diff_impedance,\n",
    "                predicted_seismic_],\n",
    "               separate=True, figsize=(24, 8),\n",
    "               title=[f'Crop from\\n{field_name}', 'Horizon mask',\n",
    "                      'Predicted\\nimpedance', 'Predicted\\nimpedance diff',\n",
    "                      'Restored seismic'],\n",
    "               suptitle_label=f'idx={idx}\\nSSIM={ssim_coefficient:2.2f}',\n",
    "               labeltop=False, \n",
    "               cmap='gray', colorbar=True,)"
   ]
  },
  {
   "cell_type": "markdown",
   "metadata": {},
   "source": [
    "### traces"
   ]
  },
  {
   "cell_type": "code",
   "execution_count": null,
   "metadata": {},
   "outputs": [],
   "source": [
    "width = SYNTHETIC_SHAPE[0]\n",
    "trace_nums = (width // 3, width // 2, width // 2 + width // 3)\n",
    "\n",
    "for idx in range(1):\n",
    "    field_name = batch.unsalt(batch.indices[idx])\n",
    "    \n",
    "    # Make data\n",
    "    predicted_impedance_ = predicted_impedance[idx, 0, :, :]\n",
    "    diff_impedance = np.diff(predicted_impedance_, axis=-1)\n",
    "    \n",
    "    impedance_traces = [predicted_impedance_[trace_num] for trace_num in trace_nums]\n",
    "    impedance_diff_traces = [diff_impedance[trace_num] for trace_num in trace_nums]\n",
    "    \n",
    "    # Actual plot\n",
    "    plot_image([impedance_traces, impedance_diff_traces],\n",
    "               mode='curve', figsize=(22, 4),\n",
    "               xlabel='HEIGHT',\n",
    "               ylabel=['Impedance', 'Impedance diff'],\n",
    "               title=['Impedance', 'Impedance diff'],\n",
    "               legend_label=[[f'Trace {trace_num}' for trace_num in trace_nums]] * 2)"
   ]
  },
  {
   "cell_type": "markdown",
   "metadata": {},
   "source": [
    "# Crossplot: seismic VS re-created seismic"
   ]
  },
  {
   "cell_type": "code",
   "execution_count": null,
   "metadata": {},
   "outputs": [],
   "source": [
    "n = 3\n",
    "fig, ax = plt.subplots(1, n, figsize=(22, 4))\n",
    "ax = ax.ravel() if isinstance(ax, np.ndarray) else ax\n",
    "trace_slice = None\n",
    "\n",
    "for idx in range(n):\n",
    "    \n",
    "    # Make data\n",
    "    seismic_image = seismic_images[idx, 0, :, :][trace_slice]\n",
    "    predicted_seismic_ = predicted_seismic[idx, :, :][trace_slice]\n",
    "    \n",
    "    ax[idx].plot(seismic_image.ravel(), predicted_seismic_.ravel(), 'go', alpha=.5)\n",
    "    plot_image([0.0], mode='curve', ax=ax[idx],\n",
    "               title=f'idx={idx}, trace_slice={trace_slice}',\n",
    "               xlabel='true seismic',\n",
    "               ylabel='re-created seismic')"
   ]
  },
  {
   "cell_type": "markdown",
   "metadata": {},
   "source": [
    "# Validation: slide"
   ]
  },
  {
   "cell_type": "code",
   "execution_count": null,
   "metadata": {},
   "outputs": [],
   "source": [
    "for field in real_dataset:\n",
    "    for location, axis in [[100, 0], [100, 1]]:\n",
    "        # Make data\n",
    "        slide = field.load_slide(loc=location, axis=axis)\n",
    "        slide = slide[np.newaxis, np.newaxis, :(slide.shape[0] // 32) * 32, :(slide.shape[1] // 32) * 32]\n",
    "        slide = normalize_seismic(slide, **REAL_SEISMIC_NORMALIZATION_MODE)\n",
    "\n",
    "        predicted_impedance = model.predict(images=slide, fetches='predictions')\n",
    "        denormalized_impedance = denormalize_impedance(predicted_impedance, **IMPEDANCE_DENORMALIZATION_MODE)\n",
    "        predicted_seismic = impedance_to_seismic(denormalized_impedance)\n",
    "        predicted_seismic = adjust_seismic(predicted_seismic, real=slide)\n",
    "        \n",
    "        slide = slide[0, 0, :, :]\n",
    "        predicted_impedance = predicted_impedance[0, 0, :, :]\n",
    "        predicted_impedance_diff = np.diff(predicted_impedance, axis=-1)\n",
    "        predicted_seismic = predicted_seismic[0, :, :]\n",
    "        \n",
    "        ssim_coefficient = ssim(slide, predicted_seismic)\n",
    "        \n",
    "        # Actual plot\n",
    "        plot_image([slide, predicted_impedance, predicted_impedance_diff, predicted_seismic],\n",
    "                   separate=True, figsize=(24, 8),\n",
    "                   title=[f'Seismic slide', \n",
    "                          'Predicted\\nimpedance', 'Predicted\\nimpedance diff',\n",
    "                          'Restored seismic'],\n",
    "                   suptitle_label=f'Slide at {location} {\"ILINE\" if axis==0 else \"CROSSLINE\"}\\nSSIM={ssim_coefficient:2.2f}',\n",
    "                   labeltop=False, \n",
    "                   cmap='gray', colorbar=True,)"
   ]
  },
  {
   "cell_type": "code",
   "execution_count": null,
   "metadata": {},
   "outputs": [],
   "source": []
  }
 ],
 "metadata": {
  "kernelspec": {
   "display_name": "Python 3",
   "language": "python",
   "name": "python3"
  },
  "language_info": {
   "codemirror_mode": {
    "name": "ipython",
    "version": 3
   },
   "file_extension": ".py",
   "mimetype": "text/x-python",
   "name": "python",
   "nbconvert_exporter": "python",
   "pygments_lexer": "ipython3",
   "version": "3.6.10"
  },
  "widgets": {
   "application/vnd.jupyter.widget-state+json": {
    "state": {
     "13570e53f20c4fcea00870b5d4f78b62": {
      "model_module": "@jupyter-widgets/controls",
      "model_module_version": "1.5.0",
      "model_name": "HBoxModel",
      "state": {
       "children": [
        "IPY_MODEL_a8d76d7a9d4440508b9be738958409fc",
        "IPY_MODEL_2060840885e049ad83745f71841b5e6a",
        "IPY_MODEL_6799a00ed4704b53b58d91e82ac16e85"
       ],
       "layout": "IPY_MODEL_1bd321523dc0450e9d67238c4c475aee"
      }
     },
     "1bd321523dc0450e9d67238c4c475aee": {
      "model_module": "@jupyter-widgets/base",
      "model_module_version": "1.2.0",
      "model_name": "LayoutModel",
      "state": {
       "display": "inline-flex",
       "flex_flow": "row wrap",
       "width": "700px"
      }
     },
     "2060840885e049ad83745f71841b5e6a": {
      "model_module": "@jupyter-widgets/controls",
      "model_module_version": "1.5.0",
      "model_name": "FloatProgressModel",
      "state": {
       "bar_style": "success",
       "layout": "IPY_MODEL_6a59e3e75475441e8ebf2bfc2a7b0ffe",
       "max": 15000,
       "style": "IPY_MODEL_597e0644c3464f41bcde6ba89883d38a",
       "value": 15000
      }
     },
     "3971a1186b41436cb506f0a96029f2a8": {
      "model_module": "@jupyter-widgets/base",
      "model_module_version": "1.2.0",
      "model_name": "LayoutModel",
      "state": {}
     },
     "597e0644c3464f41bcde6ba89883d38a": {
      "model_module": "@jupyter-widgets/controls",
      "model_module_version": "1.5.0",
      "model_name": "ProgressStyleModel",
      "state": {
       "description_width": ""
      }
     },
     "6799a00ed4704b53b58d91e82ac16e85": {
      "model_module": "@jupyter-widgets/controls",
      "model_module_version": "1.5.0",
      "model_name": "HTMLModel",
      "state": {
       "layout": "IPY_MODEL_ec03c068649349dca85c4c714016deb5",
       "style": "IPY_MODEL_eef19ed7a3de4b62884f360edc1786a0",
       "value": " 15000/15000 [4:34:33&lt;00:00,  6.14s/it, loss_history=0.047479;   ssim_on_random_real=0.009226;   ssim_on_fixed_real=0.027626]"
      }
     },
     "6a59e3e75475441e8ebf2bfc2a7b0ffe": {
      "model_module": "@jupyter-widgets/base",
      "model_module_version": "1.2.0",
      "model_name": "LayoutModel",
      "state": {
       "flex": "2"
      }
     },
     "76d298e437794e01afefbcb94760bd9c": {
      "model_module": "@jupyter-widgets/output",
      "model_module_version": "1.0.0",
      "model_name": "OutputModel",
      "state": {
       "layout": "IPY_MODEL_3971a1186b41436cb506f0a96029f2a8"
      }
     },
     "a8d76d7a9d4440508b9be738958409fc": {
      "model_module": "@jupyter-widgets/controls",
      "model_module_version": "1.5.0",
      "model_name": "HTMLModel",
      "state": {
       "layout": "IPY_MODEL_c6c12502ab2b4705b052f10ebb42da89",
       "style": "IPY_MODEL_b9ec4cefdfaf479396954cf2e5c7f502",
       "value": "100%"
      }
     },
     "b9ec4cefdfaf479396954cf2e5c7f502": {
      "model_module": "@jupyter-widgets/controls",
      "model_module_version": "1.5.0",
      "model_name": "DescriptionStyleModel",
      "state": {
       "description_width": ""
      }
     },
     "c6c12502ab2b4705b052f10ebb42da89": {
      "model_module": "@jupyter-widgets/base",
      "model_module_version": "1.2.0",
      "model_name": "LayoutModel",
      "state": {}
     },
     "ec03c068649349dca85c4c714016deb5": {
      "model_module": "@jupyter-widgets/base",
      "model_module_version": "1.2.0",
      "model_name": "LayoutModel",
      "state": {}
     },
     "eef19ed7a3de4b62884f360edc1786a0": {
      "model_module": "@jupyter-widgets/controls",
      "model_module_version": "1.5.0",
      "model_name": "DescriptionStyleModel",
      "state": {
       "description_width": ""
      }
     }
    },
    "version_major": 2,
    "version_minor": 0
   }
  }
 },
 "nbformat": 4,
 "nbformat_minor": 4
}
