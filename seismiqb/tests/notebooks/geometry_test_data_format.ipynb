{
 "cells": [
  {
   "cell_type": "code",
   "execution_count": null,
   "metadata": {},
   "outputs": [],
   "source": [
    "import os\n",
    "import sys\n",
    "import glob\n",
    "import json\n",
    "import pytest\n",
    "import numpy as np\n",
    "from py.path import local\n",
    "import warnings\n",
    "\n",
    "sys.path.append('../..')\n",
    "from seismiqb import SeismicGeometry\n",
    "\n",
    "warnings.filterwarnings(\"ignore\")"
   ]
  },
  {
   "cell_type": "code",
   "execution_count": null,
   "metadata": {},
   "outputs": [],
   "source": [
    "# Constants and parameters:\n",
    "ATTRIBUTES_NAMES = ['snr', 'std_matrix', 'quality_map', 'quality_grid']\n",
    "CUBE_PATH = os.path.join(SAVING_DIR, 'tmp/', CUBE_NAME)"
   ]
  },
  {
   "cell_type": "code",
   "execution_count": null,
   "metadata": {},
   "outputs": [],
   "source": [
    "# Data for tests:\n",
    "with open(os.path.join(SAVING_DIR, f'tmp/test_array_{DATESTAMP}.npy'), 'rb') as infile:\n",
    "    data_array = np.load(infile)\n",
    "\n",
    "timings_file = glob.glob(os.path.join(TEST_DIR, 'timings*.json'))[0]\n",
    "\n",
    "with open(timings_file, \"r\") as infile:\n",
    "    standard_timings = json.load(infile)"
   ]
  },
  {
   "cell_type": "markdown",
   "metadata": {},
   "source": [
    "# Tests"
   ]
  },
  {
   "cell_type": "code",
   "execution_count": null,
   "metadata": {},
   "outputs": [],
   "source": [
    "%%time\n",
    "geometry = SeismicGeometry(CUBE_PATH)"
   ]
  },
  {
   "cell_type": "code",
   "execution_count": null,
   "metadata": {},
   "outputs": [],
   "source": [
    "expected_timings = standard_timings[geometry.format]"
   ]
  },
  {
   "cell_type": "code",
   "execution_count": null,
   "metadata": {},
   "outputs": [],
   "source": [
    "# Check data\n",
    "geometry_data = geometry[:, :, :].ravel()\n",
    "\n",
    "if not geometry.quantized:\n",
    "    assert (geometry_data == data_array.ravel()).all()\n",
    "else:\n",
    "    corr = np.corrcoef(geometry_data, data_array.ravel())[0, 1]\n",
    "    assert corr >=0.9"
   ]
  },
  {
   "cell_type": "code",
   "execution_count": null,
   "metadata": {},
   "outputs": [],
   "source": [
    "# Attributes loading\n",
    "geometry.make_quality_map(\n",
    "    [0.1], ['support_js', 'support_hellinger'], safe_strip=0\n",
    ") # safe_strip=0 because data is a noise and otherwise haven't good traces\n",
    "\n",
    "for attr_name in ATTRIBUTES_NAMES:\n",
    "    attr = geometry.__getattr__(key=attr_name)\n",
    "    assert attr is not None\n",
    "\n",
    "    attr = geometry.load_attribute(src=attr_name)\n",
    "    assert attr is not None"
   ]
  },
  {
   "cell_type": "code",
   "execution_count": null,
   "metadata": {},
   "outputs": [],
   "source": [
    "# Slide loading\n",
    "axis = np.random.randint(3)\n",
    "loc = np.random.randint(geometry.cube_shape[axis])\n",
    "data_slice = [slice(None) for i in range(axis)]\n",
    "data_slice.append(loc)\n",
    "\n",
    "geometry_slide = geometry.load_slide(loc=loc, axis=axis)\n",
    "data_slide = data_array[tuple(data_slice)]\n",
    "\n",
    "if not geometry.quantized:\n",
    "    assert (geometry_slide == data_slide).all()\n",
    "else:\n",
    "    corr = np.corrcoef(geometry_slide.ravel(), data_slide.ravel())[0, 1]\n",
    "    assert corr >=0.9"
   ]
  },
  {
   "cell_type": "code",
   "execution_count": null,
   "metadata": {},
   "outputs": [],
   "source": [
    "# Crop loading\n",
    "point = np.random.randint(geometry.cube_shape) // 2\n",
    "shape = np.random.randint((5, 5, 5), (200, 200, 200))\n",
    "locations = [slice(start_, np.clip(start_+shape_, 0, max_shape))\n",
    "             for start_, shape_, max_shape in zip(point, shape, geometry.cube_shape)]\n",
    "\n",
    "geometry_crop = geometry.load_crop(locations=locations)\n",
    "data_crop = data_array[tuple(locations)]\n",
    "\n",
    "if not geometry.quantized:\n",
    "    assert (geometry_crop == data_crop).all()\n",
    "else:\n",
    "    corr = np.corrcoef(geometry_crop.ravel(), data_crop.ravel())[0, 1]\n",
    "    assert corr >=0.9"
   ]
  },
  {
   "cell_type": "code",
   "execution_count": null,
   "metadata": {},
   "outputs": [],
   "source": [
    "# Visualizations\n",
    "axis = np.random.randint(3)\n",
    "loc = np.random.randint(geometry.cube_shape[axis])\n",
    "\n",
    "geometry.show_slide(loc=loc, axis=axis, figsize=FIGSIZE)  \n",
    "geometry.show_histogram(hist_log=True, figsize=FIGSIZE)\n",
    "\n",
    "geometry.show(matrix='mean_matrix', figsize=FIGSIZE)\n",
    "geometry.show(matrix='snr', figsize=FIGSIZE)\n",
    "\n",
    "geometry.show_quality_map(figsize=FIGSIZE)    \n",
    "geometry.show_quality_grid(figsize=FIGSIZE)        "
   ]
  },
  {
   "cell_type": "code",
   "execution_count": null,
   "metadata": {},
   "outputs": [],
   "source": [
    "# Timings\n",
    "timings_ = geometry.benchmark(n_slide=N_SLIDE, n_crop=N_CROP, use_cache=False, seed=SEED)\n",
    "timings = {geometry.format: timings_}\n",
    "\n",
    "with open(os.path.join(SAVING_DIR, f'tmp/timings_{geometry.format}_{DATESTAMP}.json'), \"w\") as outfile:\n",
    "    json.dump(timings, outfile)"
   ]
  },
  {
   "cell_type": "code",
   "execution_count": null,
   "metadata": {},
   "outputs": [],
   "source": [
    "# Everything is OK, we can delete the cube:\n",
    "if DROP_EXTRA_FILES:\n",
    "    try:\n",
    "        os.remove(CUBE_PATH)\n",
    "    except OSError as e:\n",
    "        print(f\"Can't delete the file: {CUBE_PATH} : {e.strerror}\")"
   ]
  }
 ],
 "metadata": {
  "kernelspec": {
   "display_name": "Python 3",
   "language": "python",
   "name": "python3"
  },
  "language_info": {
   "codemirror_mode": {
    "name": "ipython",
    "version": 3
   },
   "file_extension": ".py",
   "mimetype": "text/x-python",
   "name": "python",
   "nbconvert_exporter": "python",
   "pygments_lexer": "ipython3",
   "version": "3.6.10"
  }
 },
 "nbformat": 4,
 "nbformat_minor": 4
}
