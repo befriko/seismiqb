{
 "cells": [
  {
   "cell_type": "code",
   "execution_count": null,
   "metadata": {},
   "outputs": [],
   "source": [
    "import os\n",
    "import sys\n",
    "from datetime import date\n",
    "import warnings\n",
    "warnings.filterwarnings(\"ignore\")\n",
    "\n",
    "import numpy as np\n",
    "\n",
    "sys.path.append('../..') # for running tests py-script\n",
    "sys.path.append('../../..') # for running this notebook directly\n",
    "from seismiqb import SeismicGeometry\n",
    "from seismiqb.src.geometry import export"
   ]
  },
  {
   "cell_type": "code",
   "execution_count": null,
   "metadata": {},
   "outputs": [],
   "source": [
    "\"\"\" The following constants parametrize the behavior of the notebook:\n",
    "\n",
    "DATESTAMP : str\n",
    "    Execution date in \"YYYY-MM-DD\" format.\n",
    "    Used for saving data.\n",
    "OUTPUT_DIR : str\n",
    "    Path to the directory for saving data.\n",
    "\n",
    "You can manage parameters which relates to a cube generation:\n",
    "\n",
    "CUBE_SHAPE : sequence of three integers\n",
    "    Shape of a synthetic cube.\n",
    "SEED: int or None\n",
    "    Seed used for creation of random generator (check out `np.random.default_rng`).\n",
    "\"\"\"\n",
    "# Workspace constants\n",
    "DATESTAMP = date.today().strftime(\"%Y-%m-%d\")\n",
    "OUTPUT_DIR = './geometry_test_files/'\n",
    "\n",
    "# Data creation parameters\n",
    "CUBE_NAME = f'test_cube_{DATESTAMP}.sgy'\n",
    "CUBE_SHAPE = (1000, 200, 400)\n",
    "SEED = 42\n",
    "\n",
    "# Data formats for which running tests\n",
    "FORMATS = ['hdf5', 'qhdf5', 'blosc', 'qblosc']"
   ]
  },
  {
   "cell_type": "code",
   "execution_count": null,
   "metadata": {},
   "outputs": [],
   "source": [
    "CUBE_PATH = os.path.join(OUTPUT_DIR, 'tmp/', CUBE_NAME)"
   ]
  },
  {
   "cell_type": "markdown",
   "metadata": {},
   "source": [
    "# Preparation"
   ]
  },
  {
   "cell_type": "markdown",
   "metadata": {},
   "source": [
    "## Create a fake cube"
   ]
  },
  {
   "cell_type": "code",
   "execution_count": null,
   "metadata": {},
   "outputs": [],
   "source": [
    "rng = np.random.default_rng(SEED)\n",
    "data_array = rng.normal(0, 1000, CUBE_SHAPE).astype(np.float32)"
   ]
  },
  {
   "cell_type": "code",
   "execution_count": null,
   "metadata": {},
   "outputs": [],
   "source": [
    "with open(os.path.join(OUTPUT_DIR, f'tmp/test_array_{DATESTAMP}.npy'), 'wb') as outfile:\n",
    "    np.save(outfile, data_array)"
   ]
  },
  {
   "cell_type": "code",
   "execution_count": null,
   "metadata": {},
   "outputs": [],
   "source": [
    "%%time\n",
    "export.make_segy_from_array(\n",
    "    array=data_array, path_segy=CUBE_PATH, zip_segy=False,\n",
    "    sample_rate=2., delay=50, pbar='t'\n",
    ")"
   ]
  },
  {
   "cell_type": "code",
   "execution_count": null,
   "metadata": {},
   "outputs": [],
   "source": [
    "%%time\n",
    "geometry_sgy = SeismicGeometry(\n",
    "    path=CUBE_PATH, process=True, collect_stats=True, spatial=True, pbar='t'\n",
    ")"
   ]
  },
  {
   "cell_type": "markdown",
   "metadata": {},
   "source": [
    "## Check data loading"
   ]
  },
  {
   "cell_type": "code",
   "execution_count": null,
   "metadata": {},
   "outputs": [],
   "source": [
    "%%time\n",
    "_ = SeismicGeometry(\n",
    "    path=CUBE_PATH,\n",
    "    headers=SeismicGeometry.HEADERS_POST_FULL,\n",
    "    index_headers=SeismicGeometry.INDEX_CDP\n",
    ")"
   ]
  },
  {
   "cell_type": "code",
   "execution_count": null,
   "metadata": {},
   "outputs": [],
   "source": [
    "%%time\n",
    "_ = SeismicGeometry(\n",
    "    path=CUBE_PATH,\n",
    "    headers=SeismicGeometry.HEADERS_POST_FULL,\n",
    "    index_headers=SeismicGeometry.INDEX_POST\n",
    ")"
   ]
  },
  {
   "cell_type": "markdown",
   "metadata": {},
   "source": [
    "## Conversion"
   ]
  },
  {
   "cell_type": "code",
   "execution_count": null,
   "metadata": {},
   "outputs": [],
   "source": [
    "for f in FORMATS:\n",
    "    _ = geometry_sgy.convert(format=f, quantize=False, store_meta=False, pbar='t')"
   ]
  }
 ],
 "metadata": {
  "kernelspec": {
   "display_name": "Python 3",
   "language": "python",
   "name": "python3"
  },
  "language_info": {
   "codemirror_mode": {
    "name": "ipython",
    "version": 3
   },
   "file_extension": ".py",
   "mimetype": "text/x-python",
   "name": "python",
   "nbconvert_exporter": "python",
   "pygments_lexer": "ipython3",
   "version": "3.6.10"
  }
 },
 "nbformat": 4,
 "nbformat_minor": 4
}
