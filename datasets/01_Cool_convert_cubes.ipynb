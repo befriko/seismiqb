{
 "cells": [
  {
   "cell_type": "markdown",
   "metadata": {},
   "source": [
    "# Cube conversion to HDF5\n",
    "\n",
    "This notebooks creates a `HDF5` version of each `SEG-Y` cube.\n",
    "\n",
    "Pseudocode of this notebook looks like:"
   ]
  },
  {
   "cell_type": "markdown",
   "metadata": {},
   "source": [
    "```python\n",
    "for each cube:\n",
    "    mkdir\n",
    "    infer geometry\n",
    "    if SHOW, log to std.out\n",
    "    \n",
    "    convert segy to hdf5\n",
    "```"
   ]
  },
  {
   "cell_type": "markdown",
   "metadata": {},
   "source": [
    "* The parameter `paths` controls which cubes are converted\n",
    "* `RECREATE` determines whether already converted volumes are re-converted\n",
    "* `SHOW` allows to control whether results are shown in the notebook itself\n",
    "* `DRY` can be used to check which operations will happen, without actually executing them"
   ]
  },
  {
   "cell_type": "code",
   "execution_count": 1,
   "metadata": {},
   "outputs": [],
   "source": [
    "import os\n",
    "import sys\n",
    "import warnings\n",
    "from tqdm.auto import tqdm\n",
    "from glob import glob\n",
    "import matplotlib.pyplot as plt\n",
    "\n",
    "sys.path.append('..')\n",
    "from seismiqb import SeismicGeometry, plot_image"
   ]
  },
  {
   "cell_type": "code",
   "execution_count": 2,
   "metadata": {},
   "outputs": [],
   "source": [
    "from IPython.display import display\n",
    "from ipywidgets import Checkbox, Output"
   ]
  },
  {
   "cell_type": "code",
   "execution_count": 4,
   "metadata": {},
   "outputs": [
    {
     "data": {
      "application/vnd.jupyter.widget-view+json": {
       "model_id": "adc1718b54e44909a6a31294113459eb",
       "version_major": 2,
       "version_minor": 0
      },
      "text/plain": [
       "Checkbox(value=False, description='All')"
      ]
     },
     "metadata": {},
     "output_type": "display_data"
    },
    {
     "data": {
      "application/vnd.jupyter.widget-view+json": {
       "model_id": "533ab0d3e60649ca8f9fdd587ec2ef28",
       "version_major": 2,
       "version_minor": 0
      },
      "text/plain": [
       "Checkbox(value=False, description='001_ETP')"
      ]
     },
     "metadata": {},
     "output_type": "display_data"
    },
    {
     "data": {
      "application/vnd.jupyter.widget-view+json": {
       "model_id": "79aaa3c1dca04f1380bf66b3ac46ad80",
       "version_major": 2,
       "version_minor": 0
      },
      "text/plain": [
       "Checkbox(value=False, description='006_TAYLAKOVSKY')"
      ]
     },
     "metadata": {},
     "output_type": "display_data"
    },
    {
     "data": {
      "application/vnd.jupyter.widget-view+json": {
       "model_id": "ba0bc765898345d2ad1d1707e343cca0",
       "version_major": 2,
       "version_minor": 0
      },
      "text/plain": [
       "Checkbox(value=False, description='028_SAMBURG')"
      ]
     },
     "metadata": {},
     "output_type": "display_data"
    },
    {
     "data": {
      "application/vnd.jupyter.widget-view+json": {
       "model_id": "a0e7f63072664e9aa7e779ed3920b1b6",
       "version_major": 2,
       "version_minor": 0
      },
      "text/plain": [
       "Checkbox(value=False, description='031_CHIST')"
      ]
     },
     "metadata": {},
     "output_type": "display_data"
    },
    {
     "data": {
      "application/vnd.jupyter.widget-view+json": {
       "model_id": "2a37f24bbfbc48378a46bf128c4767a3",
       "version_major": 2,
       "version_minor": 0
      },
      "text/plain": [
       "Checkbox(value=False, description='032_MYUG')"
      ]
     },
     "metadata": {},
     "output_type": "display_data"
    },
    {
     "data": {
      "application/vnd.jupyter.widget-view+json": {
       "model_id": "49a65d5fc0534f00a3d5f7d61134ff74",
       "version_major": 2,
       "version_minor": 0
      },
      "text/plain": [
       "Checkbox(value=False, description='033_SAMBURG')"
      ]
     },
     "metadata": {},
     "output_type": "display_data"
    },
    {
     "data": {
      "application/vnd.jupyter.widget-view+json": {
       "model_id": "25e74cdc15044d9788fed413c6df40fa",
       "version_major": 2,
       "version_minor": 0
      },
      "text/plain": [
       "Checkbox(value=False, description='034_UKM')"
      ]
     },
     "metadata": {},
     "output_type": "display_data"
    },
    {
     "data": {
      "application/vnd.jupyter.widget-view+json": {
       "model_id": "987a01f1caaa4f548c2102fdb1bef999",
       "version_major": 2,
       "version_minor": 0
      },
      "text/plain": [
       "Checkbox(value=False, description='038_ACHIM')"
      ]
     },
     "metadata": {},
     "output_type": "display_data"
    },
    {
     "data": {
      "application/vnd.jupyter.widget-view+json": {
       "model_id": "a53d45e6ae1e4454b4afccd230d1c7eb",
       "version_major": 2,
       "version_minor": 0
      },
      "text/plain": [
       "Checkbox(value=False, description='039_YY')"
      ]
     },
     "metadata": {},
     "output_type": "display_data"
    },
    {
     "data": {
      "application/vnd.jupyter.widget-view+json": {
       "model_id": "d9d782c8e0d443ad962fafbfe47f6bda",
       "version_major": 2,
       "version_minor": 0
      },
      "text/plain": [
       "Checkbox(value=False, description='040_KET')"
      ]
     },
     "metadata": {},
     "output_type": "display_data"
    },
    {
     "data": {
      "application/vnd.jupyter.widget-view+json": {
       "model_id": "1110ecc4bfed4b319f70ba7f90029d86",
       "version_major": 2,
       "version_minor": 0
      },
      "text/plain": [
       "Checkbox(value=False, description='041_UJNOE')"
      ]
     },
     "metadata": {},
     "output_type": "display_data"
    },
    {
     "data": {
      "application/vnd.jupyter.widget-view+json": {
       "model_id": "c6a13ae59e004dd09af0337beb2247e2",
       "version_major": 2,
       "version_minor": 0
      },
      "text/plain": [
       "Checkbox(value=False, description='042_ZAPZIM')"
      ]
     },
     "metadata": {},
     "output_type": "display_data"
    },
    {
     "data": {
      "application/vnd.jupyter.widget-view+json": {
       "model_id": "b89e9a063cee4149bdae90a9b7e81951",
       "version_major": 2,
       "version_minor": 0
      },
      "text/plain": [
       "Checkbox(value=False, description='043_KARAM')"
      ]
     },
     "metadata": {},
     "output_type": "display_data"
    },
    {
     "data": {
      "application/vnd.jupyter.widget-view+json": {
       "model_id": "f58b548f0bbb4af4a0a7a2dd3f5ba82b",
       "version_major": 2,
       "version_minor": 0
      },
      "text/plain": [
       "Checkbox(value=False, description='046_YETYPUR')"
      ]
     },
     "metadata": {},
     "output_type": "display_data"
    },
    {
     "data": {
      "application/vnd.jupyter.widget-view+json": {
       "model_id": "b90dc993f81f4b0b8fc9d38ce3e14daa",
       "version_major": 2,
       "version_minor": 0
      },
      "text/plain": [
       "Checkbox(value=False, description='047_VYNGYPUR')"
      ]
     },
     "metadata": {},
     "output_type": "display_data"
    },
    {
     "data": {
      "application/vnd.jupyter.widget-view+json": {
       "model_id": "6045c11e46ad471f97fbd37a6793e350",
       "version_major": 2,
       "version_minor": 0
      },
      "text/plain": [
       "Checkbox(value=False, description='048_VENGAYKHA')"
      ]
     },
     "metadata": {},
     "output_type": "display_data"
    },
    {
     "data": {
      "application/vnd.jupyter.widget-view+json": {
       "model_id": "45bca7c567ce4efaaff7b54950f29876",
       "version_major": 2,
       "version_minor": 0
      },
      "text/plain": [
       "Checkbox(value=False, description='049_ZAPZIM')"
      ]
     },
     "metadata": {},
     "output_type": "display_data"
    },
    {
     "data": {
      "application/vnd.jupyter.widget-view+json": {
       "model_id": "d1de06d904b944a68b7d0ce6bf728a6c",
       "version_major": 2,
       "version_minor": 0
      },
      "text/plain": [
       "Checkbox(value=False, description='058_VYNGYPUR')"
      ]
     },
     "metadata": {},
     "output_type": "display_data"
    },
    {
     "data": {
      "application/vnd.jupyter.widget-view+json": {
       "model_id": "28c6a747efb24e31aba3191c4d266dcc",
       "version_major": 2,
       "version_minor": 0
      },
      "text/plain": [
       "Checkbox(value=False, description='059_NVT')"
      ]
     },
     "metadata": {},
     "output_type": "display_data"
    },
    {
     "data": {
      "application/vnd.jupyter.widget-view+json": {
       "model_id": "712485f7f239435693b4edd55d541797",
       "version_major": 2,
       "version_minor": 0
      },
      "text/plain": [
       "Checkbox(value=False, description='062_VYNGYPUR')"
      ]
     },
     "metadata": {},
     "output_type": "display_data"
    },
    {
     "data": {
      "application/vnd.jupyter.widget-view+json": {
       "model_id": "ad4f9f05caf040a2ab6671644fe76b9e",
       "version_major": 2,
       "version_minor": 0
      },
      "text/plain": [
       "Checkbox(value=False, description='063_VYNGYPUR')"
      ]
     },
     "metadata": {},
     "output_type": "display_data"
    },
    {
     "data": {
      "application/vnd.jupyter.widget-view+json": {
       "model_id": "0f8edd62c644468c906e23eebf5c998a",
       "version_major": 2,
       "version_minor": 0
      },
      "text/plain": [
       "Checkbox(value=False, description='064_SALYM')"
      ]
     },
     "metadata": {},
     "output_type": "display_data"
    },
    {
     "data": {
      "application/vnd.jupyter.widget-view+json": {
       "model_id": "e69b6179940f474ea07d4859467eb923",
       "version_major": 2,
       "version_minor": 0
      },
      "text/plain": [
       "Checkbox(value=False, description='065_SALYM')"
      ]
     },
     "metadata": {},
     "output_type": "display_data"
    }
   ],
   "source": [
    "DEFAULT_PATH = \"/data/seismic_data/seismic_interpretation\"\n",
    "paths = sorted(glob(f'{DEFAULT_PATH}/*_*/*.sgy'))\n",
    "names = [path[path.rfind('/')+1:path.rfind('.')] for path in paths]\n",
    "cube_boxes = {'All': Checkbox(False, description='All'), **{name: Checkbox(False, description=name) for name in names}}\n",
    "cube_boxes['All'].friends = [cube_boxes[name] for name in names]\n",
    "cube_boxes['All'].observe(lambda x: [setattr(friend, 'value', x['owner'].value) for friend in x['owner'].friends], 'value')\n",
    "display(*cube_boxes.values())"
   ]
  },
  {
   "cell_type": "code",
   "execution_count": 5,
   "metadata": {},
   "outputs": [
    {
     "data": {
      "application/vnd.jupyter.widget-view+json": {
       "model_id": "dd56f3f1a2d94e1ca3222fc25cd21c5d",
       "version_major": 2,
       "version_minor": 0
      },
      "text/plain": [
       "Checkbox(value=False, description='RECREATE')"
      ]
     },
     "metadata": {},
     "output_type": "display_data"
    },
    {
     "data": {
      "application/vnd.jupyter.widget-view+json": {
       "model_id": "445b10536af24382a2c8ce72ad9a9c9f",
       "version_major": 2,
       "version_minor": 0
      },
      "text/plain": [
       "Checkbox(value=True, description='SHOW')"
      ]
     },
     "metadata": {},
     "output_type": "display_data"
    },
    {
     "data": {
      "application/vnd.jupyter.widget-view+json": {
       "model_id": "911ba56e2dec4a4a93c748201bb7b37e",
       "version_major": 2,
       "version_minor": 0
      },
      "text/plain": [
       "Checkbox(value=True, description='DRY RUN')"
      ]
     },
     "metadata": {},
     "output_type": "display_data"
    }
   ],
   "source": [
    "RECREATE = Checkbox(False, description='RECREATE')\n",
    "SHOW = Checkbox(True, description='SHOW')\n",
    "DRY_RUN = Checkbox(True, description='DRY RUN')\n",
    "\n",
    "display(RECREATE, SHOW, DRY_RUN)"
   ]
  },
  {
   "cell_type": "code",
   "execution_count": 7,
   "metadata": {},
   "outputs": [
    {
     "data": {
      "application/vnd.jupyter.widget-view+json": {
       "model_id": "80953ce95b2a4298b8e479d7e80f0422",
       "version_major": 2,
       "version_minor": 0
      },
      "text/plain": [
       "  0%|                                                                                                         …"
      ]
     },
     "metadata": {},
     "output_type": "display_data"
    },
    {
     "name": "stdout",
     "output_type": "stream",
     "text": [
      "▆▆▆▆▆▆▆▆▆▆▆▆▆▆▆▆▆▆▆▆▆▆▆▆▆▆▆▆▆▆▆▆▆▆▆▆▆▆▆▆▆▆▆▆▆▆▆▆▆▆▆▆▆▆▆\n",
      "▆▆▆▆▆▆▆▆▆▆▆▆▆▆▆▆▆▆▆▆▆▆▆▆▆▆▆▆▆▆▆▆▆▆▆▆▆▆▆▆▆▆▆▆▆▆▆▆▆▆▆▆▆▆▆\n",
      "Working with /data/seismic_data/seismic_interpretation/038_ACHIM/038_ACHIM.sgy\n"
     ]
    },
    {
     "data": {
      "application/vnd.jupyter.widget-view+json": {
       "model_id": "ab064855ce994deca46e484068c12235",
       "version_major": 2,
       "version_minor": 0
      },
      "text/plain": [
       "Finding min/max:   0%|                                                                                        …"
      ]
     },
     "metadata": {},
     "output_type": "display_data"
    },
    {
     "data": {
      "application/vnd.jupyter.widget-view+json": {
       "model_id": "c5afd44d31304bde96b018fe8256301a",
       "version_major": 2,
       "version_minor": 0
      },
      "text/plain": [
       "Collecting stats for 038_ACHIM:   0%|                                                                         …"
      ]
     },
     "metadata": {},
     "output_type": "display_data"
    },
    {
     "ename": "KeyboardInterrupt",
     "evalue": "",
     "output_type": "error",
     "traceback": [
      "\u001b[0;31m---------------------------------------------------------------------------\u001b[0m",
      "\u001b[0;31mKeyboardInterrupt\u001b[0m                         Traceback (most recent call last)",
      "\u001b[0;32m<timed exec>\u001b[0m in \u001b[0;36m<module>\u001b[0;34m\u001b[0m\n",
      "\u001b[0;32m/notebooks/FaciesSegmentation/seismiqb/seismiqb/src/geometry/segy.py\u001b[0m in \u001b[0;36m__init__\u001b[0;34m(self, path, headers, index_headers, **kwargs)\u001b[0m\n\u001b[1;32m     48\u001b[0m         \u001b[0mself\u001b[0m\u001b[0;34m.\u001b[0m\u001b[0mindex_headers\u001b[0m \u001b[0;34m=\u001b[0m \u001b[0mindex_headers\u001b[0m \u001b[0;32mor\u001b[0m \u001b[0mself\u001b[0m\u001b[0;34m.\u001b[0m\u001b[0mINDEX_POST\u001b[0m\u001b[0;34m\u001b[0m\u001b[0;34m\u001b[0m\u001b[0m\n\u001b[1;32m     49\u001b[0m \u001b[0;34m\u001b[0m\u001b[0m\n\u001b[0;32m---> 50\u001b[0;31m         \u001b[0msuper\u001b[0m\u001b[0;34m(\u001b[0m\u001b[0;34m)\u001b[0m\u001b[0;34m.\u001b[0m\u001b[0m__init__\u001b[0m\u001b[0;34m(\u001b[0m\u001b[0mpath\u001b[0m\u001b[0;34m,\u001b[0m \u001b[0;34m**\u001b[0m\u001b[0mkwargs\u001b[0m\u001b[0;34m)\u001b[0m\u001b[0;34m\u001b[0m\u001b[0;34m\u001b[0m\u001b[0m\n\u001b[0m\u001b[1;32m     51\u001b[0m \u001b[0;34m\u001b[0m\u001b[0m\n\u001b[1;32m     52\u001b[0m     \u001b[0;32mdef\u001b[0m \u001b[0mset_index\u001b[0m\u001b[0;34m(\u001b[0m\u001b[0mself\u001b[0m\u001b[0;34m,\u001b[0m \u001b[0mindex_headers\u001b[0m\u001b[0;34m,\u001b[0m \u001b[0msortby\u001b[0m\u001b[0;34m=\u001b[0m\u001b[0;32mNone\u001b[0m\u001b[0;34m)\u001b[0m\u001b[0;34m:\u001b[0m\u001b[0;34m\u001b[0m\u001b[0;34m\u001b[0m\u001b[0m\n",
      "\u001b[0;32m/notebooks/FaciesSegmentation/seismiqb/seismiqb/src/geometry/base.py\u001b[0m in \u001b[0;36m__init__\u001b[0;34m(self, path, process, path_meta, *args, **kwargs)\u001b[0m\n\u001b[1;32m    230\u001b[0m         \u001b[0mself\u001b[0m\u001b[0;34m.\u001b[0m\u001b[0mhas_stats\u001b[0m \u001b[0;34m=\u001b[0m \u001b[0;32mFalse\u001b[0m\u001b[0;34m\u001b[0m\u001b[0;34m\u001b[0m\u001b[0m\n\u001b[1;32m    231\u001b[0m         \u001b[0;32mif\u001b[0m \u001b[0mprocess\u001b[0m\u001b[0;34m:\u001b[0m\u001b[0;34m\u001b[0m\u001b[0;34m\u001b[0m\u001b[0m\n\u001b[0;32m--> 232\u001b[0;31m             \u001b[0mself\u001b[0m\u001b[0;34m.\u001b[0m\u001b[0mprocess\u001b[0m\u001b[0;34m(\u001b[0m\u001b[0;34m**\u001b[0m\u001b[0mkwargs\u001b[0m\u001b[0;34m)\u001b[0m\u001b[0;34m\u001b[0m\u001b[0;34m\u001b[0m\u001b[0m\n\u001b[0m\u001b[1;32m    233\u001b[0m \u001b[0;34m\u001b[0m\u001b[0m\n\u001b[1;32m    234\u001b[0m \u001b[0;34m\u001b[0m\u001b[0m\n",
      "\u001b[0;32m/notebooks/FaciesSegmentation/seismiqb/seismiqb/src/geometry/segy.py\u001b[0m in \u001b[0;36mprocess\u001b[0;34m(self, collect_stats, recollect, **kwargs)\u001b[0m\n\u001b[1;32m     88\u001b[0m             \u001b[0mself\u001b[0m\u001b[0;34m.\u001b[0m\u001b[0mhas_stats\u001b[0m \u001b[0;34m=\u001b[0m \u001b[0;32mTrue\u001b[0m\u001b[0;34m\u001b[0m\u001b[0;34m\u001b[0m\u001b[0m\n\u001b[1;32m     89\u001b[0m         \u001b[0;32melif\u001b[0m \u001b[0mcollect_stats\u001b[0m\u001b[0;34m:\u001b[0m\u001b[0;34m\u001b[0m\u001b[0;34m\u001b[0m\u001b[0m\n\u001b[0;32m---> 90\u001b[0;31m             \u001b[0mself\u001b[0m\u001b[0;34m.\u001b[0m\u001b[0mcollect_stats\u001b[0m\u001b[0;34m(\u001b[0m\u001b[0;34m**\u001b[0m\u001b[0mkwargs\u001b[0m\u001b[0;34m)\u001b[0m\u001b[0;34m\u001b[0m\u001b[0;34m\u001b[0m\u001b[0m\n\u001b[0m\u001b[1;32m     91\u001b[0m \u001b[0;34m\u001b[0m\u001b[0m\n\u001b[1;32m     92\u001b[0m         \u001b[0;31m# Create a matrix with ones at fully-zero traces\u001b[0m\u001b[0;34m\u001b[0m\u001b[0;34m\u001b[0m\u001b[0;34m\u001b[0m\u001b[0m\n",
      "\u001b[0;32m/notebooks/FaciesSegmentation/seismiqb/seismiqb/src/geometry/segy.py\u001b[0m in \u001b[0;36mcollect_stats\u001b[0;34m(self, spatial, bins, num_keep, pbar, **kwargs)\u001b[0m\n\u001b[1;32m    209\u001b[0m                 \u001b[0mval_min\u001b[0m\u001b[0;34m,\u001b[0m \u001b[0mval_max\u001b[0m \u001b[0;34m=\u001b[0m \u001b[0mfind_min_max\u001b[0m\u001b[0;34m(\u001b[0m\u001b[0mtrace\u001b[0m\u001b[0;34m)\u001b[0m\u001b[0;34m\u001b[0m\u001b[0;34m\u001b[0m\u001b[0m\n\u001b[1;32m    210\u001b[0m                 \u001b[0;32mif\u001b[0m \u001b[0mval_min\u001b[0m \u001b[0;34m!=\u001b[0m \u001b[0mval_max\u001b[0m\u001b[0;34m:\u001b[0m\u001b[0;34m\u001b[0m\u001b[0;34m\u001b[0m\u001b[0m\n\u001b[0;32m--> 211\u001b[0;31m                     \u001b[0mhistogram\u001b[0m \u001b[0;34m=\u001b[0m \u001b[0mnp\u001b[0m\u001b[0;34m.\u001b[0m\u001b[0mhistogram\u001b[0m\u001b[0;34m(\u001b[0m\u001b[0mtrace\u001b[0m\u001b[0;34m,\u001b[0m \u001b[0mbins\u001b[0m\u001b[0;34m=\u001b[0m\u001b[0mbins\u001b[0m\u001b[0;34m)\u001b[0m\u001b[0;34m[\u001b[0m\u001b[0;36m0\u001b[0m\u001b[0;34m]\u001b[0m\u001b[0;34m\u001b[0m\u001b[0;34m\u001b[0m\u001b[0m\n\u001b[0m\u001b[1;32m    212\u001b[0m                     \u001b[0mhist_matrix\u001b[0m\u001b[0;34m[\u001b[0m\u001b[0mstore_key\u001b[0m\u001b[0;34m]\u001b[0m \u001b[0;34m=\u001b[0m \u001b[0mhistogram\u001b[0m\u001b[0;34m\u001b[0m\u001b[0;34m\u001b[0m\u001b[0m\n\u001b[1;32m    213\u001b[0m \u001b[0;34m\u001b[0m\u001b[0m\n",
      "\u001b[0;32m<__array_function__ internals>\u001b[0m in \u001b[0;36mhistogram\u001b[0;34m(*args, **kwargs)\u001b[0m\n",
      "\u001b[0;32m/opt/conda/lib/python3.6/site-packages/numpy/lib/histograms.py\u001b[0m in \u001b[0;36mhistogram\u001b[0;34m(a, bins, range, normed, weights, density)\u001b[0m\n\u001b[1;32m    875\u001b[0m         \u001b[0;32mif\u001b[0m \u001b[0mweights\u001b[0m \u001b[0;32mis\u001b[0m \u001b[0;32mNone\u001b[0m\u001b[0;34m:\u001b[0m\u001b[0;34m\u001b[0m\u001b[0;34m\u001b[0m\u001b[0m\n\u001b[1;32m    876\u001b[0m             \u001b[0;32mfor\u001b[0m \u001b[0mi\u001b[0m \u001b[0;32min\u001b[0m \u001b[0m_range\u001b[0m\u001b[0;34m(\u001b[0m\u001b[0;36m0\u001b[0m\u001b[0;34m,\u001b[0m \u001b[0mlen\u001b[0m\u001b[0;34m(\u001b[0m\u001b[0ma\u001b[0m\u001b[0;34m)\u001b[0m\u001b[0;34m,\u001b[0m \u001b[0mBLOCK\u001b[0m\u001b[0;34m)\u001b[0m\u001b[0;34m:\u001b[0m\u001b[0;34m\u001b[0m\u001b[0;34m\u001b[0m\u001b[0m\n\u001b[0;32m--> 877\u001b[0;31m                 \u001b[0msa\u001b[0m \u001b[0;34m=\u001b[0m \u001b[0mnp\u001b[0m\u001b[0;34m.\u001b[0m\u001b[0msort\u001b[0m\u001b[0;34m(\u001b[0m\u001b[0ma\u001b[0m\u001b[0;34m[\u001b[0m\u001b[0mi\u001b[0m\u001b[0;34m:\u001b[0m\u001b[0mi\u001b[0m\u001b[0;34m+\u001b[0m\u001b[0mBLOCK\u001b[0m\u001b[0;34m]\u001b[0m\u001b[0;34m)\u001b[0m\u001b[0;34m\u001b[0m\u001b[0;34m\u001b[0m\u001b[0m\n\u001b[0m\u001b[1;32m    878\u001b[0m                 \u001b[0mcum_n\u001b[0m \u001b[0;34m+=\u001b[0m \u001b[0m_search_sorted_inclusive\u001b[0m\u001b[0;34m(\u001b[0m\u001b[0msa\u001b[0m\u001b[0;34m,\u001b[0m \u001b[0mbin_edges\u001b[0m\u001b[0;34m)\u001b[0m\u001b[0;34m\u001b[0m\u001b[0;34m\u001b[0m\u001b[0m\n\u001b[1;32m    879\u001b[0m         \u001b[0;32melse\u001b[0m\u001b[0;34m:\u001b[0m\u001b[0;34m\u001b[0m\u001b[0;34m\u001b[0m\u001b[0m\n",
      "\u001b[0;32m<__array_function__ internals>\u001b[0m in \u001b[0;36msort\u001b[0;34m(*args, **kwargs)\u001b[0m\n",
      "\u001b[0;32m/opt/conda/lib/python3.6/site-packages/numpy/core/fromnumeric.py\u001b[0m in \u001b[0;36msort\u001b[0;34m(a, axis, kind, order)\u001b[0m\n\u001b[1;32m    989\u001b[0m     \u001b[0;32melse\u001b[0m\u001b[0;34m:\u001b[0m\u001b[0;34m\u001b[0m\u001b[0;34m\u001b[0m\u001b[0m\n\u001b[1;32m    990\u001b[0m         \u001b[0ma\u001b[0m \u001b[0;34m=\u001b[0m \u001b[0masanyarray\u001b[0m\u001b[0;34m(\u001b[0m\u001b[0ma\u001b[0m\u001b[0;34m)\u001b[0m\u001b[0;34m.\u001b[0m\u001b[0mcopy\u001b[0m\u001b[0;34m(\u001b[0m\u001b[0morder\u001b[0m\u001b[0;34m=\u001b[0m\u001b[0;34m\"K\"\u001b[0m\u001b[0;34m)\u001b[0m\u001b[0;34m\u001b[0m\u001b[0;34m\u001b[0m\u001b[0m\n\u001b[0;32m--> 991\u001b[0;31m     \u001b[0ma\u001b[0m\u001b[0;34m.\u001b[0m\u001b[0msort\u001b[0m\u001b[0;34m(\u001b[0m\u001b[0maxis\u001b[0m\u001b[0;34m=\u001b[0m\u001b[0maxis\u001b[0m\u001b[0;34m,\u001b[0m \u001b[0mkind\u001b[0m\u001b[0;34m=\u001b[0m\u001b[0mkind\u001b[0m\u001b[0;34m,\u001b[0m \u001b[0morder\u001b[0m\u001b[0;34m=\u001b[0m\u001b[0morder\u001b[0m\u001b[0;34m)\u001b[0m\u001b[0;34m\u001b[0m\u001b[0;34m\u001b[0m\u001b[0m\n\u001b[0m\u001b[1;32m    992\u001b[0m     \u001b[0;32mreturn\u001b[0m \u001b[0ma\u001b[0m\u001b[0;34m\u001b[0m\u001b[0;34m\u001b[0m\u001b[0m\n\u001b[1;32m    993\u001b[0m \u001b[0;34m\u001b[0m\u001b[0m\n",
      "\u001b[0;31mKeyboardInterrupt\u001b[0m: "
     ]
    }
   ],
   "source": [
    "%%time\n",
    "checked_paths = [paths[names.index(name)] for name in names if cube_boxes[name].value]\n",
    "for path_cube in tqdm(checked_paths, ncols=1100):\n",
    "    if not os.path.exists(path_cube):\n",
    "        continue\n",
    "    \n",
    "    hdf5_path_cube = '.'.join((os.path.splitext(path_cube)[0], 'hdf5'))\n",
    "    if os.path.exists(hdf5_path_cube) and not RECREATE.value:\n",
    "        continue\n",
    "    \n",
    "    if DRY_RUN.value:\n",
    "        print('Will convert :::', path_cube)\n",
    "        continue\n",
    "    \n",
    "    if SHOW.value:\n",
    "        print('▆'*55); print('▆'*55);\n",
    "        print('Working with', path_cube)\n",
    "\n",
    "    geometry = SeismicGeometry(\n",
    "        path_cube,\n",
    "        headers=SeismicGeometry.HEADERS_POST_FULL,\n",
    "        index_headers = SeismicGeometry.INDEX_POST,\n",
    "        collect_stats=True, spatial=True, recollect=True\n",
    "    )\n",
    "    qmap = geometry.quality_map\n",
    "\n",
    "    if SHOW.value:\n",
    "        print(geometry)\n",
    "        plot_image(qmap, cmap='Reds')\n",
    "        plt.show()\n",
    "    \n",
    "    geometry.make_hdf5()"
   ]
  },
  {
   "cell_type": "code",
   "execution_count": null,
   "metadata": {},
   "outputs": [],
   "source": []
  }
 ],
 "metadata": {
  "kernelspec": {
   "display_name": "Python 3",
   "language": "python",
   "name": "python3"
  },
  "language_info": {
   "codemirror_mode": {
    "name": "ipython",
    "version": 3
   },
   "file_extension": ".py",
   "mimetype": "text/x-python",
   "name": "python",
   "nbconvert_exporter": "python",
   "pygments_lexer": "ipython3",
   "version": "3.6.10"
  },
  "widgets": {
   "application/vnd.jupyter.widget-state+json": {
    "state": {
     "00ea8b08477b43fd80cd95b348b76e9b": {
      "model_module": "@jupyter-widgets/controls",
      "model_module_version": "1.5.0",
      "model_name": "DescriptionStyleModel",
      "state": {
       "description_width": ""
      }
     },
     "02b484c6225e4a88aae800db4e907fc9": {
      "model_module": "@jupyter-widgets/controls",
      "model_module_version": "1.5.0",
      "model_name": "ProgressStyleModel",
      "state": {
       "description_width": ""
      }
     },
     "0978337f2db241f8a1818d79aabf30d0": {
      "model_module": "@jupyter-widgets/base",
      "model_module_version": "1.2.0",
      "model_name": "LayoutModel",
      "state": {
       "display": "inline-flex",
       "flex_flow": "row wrap",
       "width": "1100px"
      }
     },
     "0dd6914d76914155bf8d0607492eb54f": {
      "model_module": "@jupyter-widgets/controls",
      "model_module_version": "1.5.0",
      "model_name": "FloatProgressModel",
      "state": {
       "bar_style": "danger",
       "layout": "IPY_MODEL_36c62b4a432444f38997b2e36d846a4d",
       "max": 515460,
       "style": "IPY_MODEL_71d8c10c32c949f68b85b043de3ccb7d",
       "value": 251176
      }
     },
     "0f8edd62c644468c906e23eebf5c998a": {
      "model_module": "@jupyter-widgets/controls",
      "model_module_version": "1.5.0",
      "model_name": "CheckboxModel",
      "state": {
       "description": "064_SALYM",
       "disabled": false,
       "layout": "IPY_MODEL_d9b509cb57f147cfbabc685d8aa01bfd",
       "style": "IPY_MODEL_226c25cb6e884cf4a10035e01ccf9250",
       "value": false
      }
     },
     "1011e2c47c1a4de4be2ea7c883421a28": {
      "model_module": "@jupyter-widgets/controls",
      "model_module_version": "1.5.0",
      "model_name": "DescriptionStyleModel",
      "state": {
       "description_width": ""
      }
     },
     "1110ecc4bfed4b319f70ba7f90029d86": {
      "model_module": "@jupyter-widgets/controls",
      "model_module_version": "1.5.0",
      "model_name": "CheckboxModel",
      "state": {
       "description": "041_UJNOE",
       "disabled": false,
       "layout": "IPY_MODEL_9d6399281e8c4d85bef1348cfca7361e",
       "style": "IPY_MODEL_e266cdb7a08b4bbc8295cdb78a8f54ce",
       "value": false
      }
     },
     "1fc277d7b35f42a0b7218ebe0b944cb7": {
      "model_module": "@jupyter-widgets/base",
      "model_module_version": "1.2.0",
      "model_name": "LayoutModel",
      "state": {}
     },
     "22006f483a1d4b19ae46b995004dc0af": {
      "model_module": "@jupyter-widgets/base",
      "model_module_version": "1.2.0",
      "model_name": "LayoutModel",
      "state": {}
     },
     "226c25cb6e884cf4a10035e01ccf9250": {
      "model_module": "@jupyter-widgets/controls",
      "model_module_version": "1.5.0",
      "model_name": "DescriptionStyleModel",
      "state": {
       "description_width": ""
      }
     },
     "24b53a32142744b19e805d12bd50c8ad": {
      "model_module": "@jupyter-widgets/base",
      "model_module_version": "1.2.0",
      "model_name": "LayoutModel",
      "state": {}
     },
     "25e74cdc15044d9788fed413c6df40fa": {
      "model_module": "@jupyter-widgets/controls",
      "model_module_version": "1.5.0",
      "model_name": "CheckboxModel",
      "state": {
       "description": "034_UKM",
       "disabled": false,
       "layout": "IPY_MODEL_22006f483a1d4b19ae46b995004dc0af",
       "style": "IPY_MODEL_ffac2f107a0444c489c687b4c8bef6b2",
       "value": false
      }
     },
     "27f6ac0e1feb419083610f76a7c47d4b": {
      "model_module": "@jupyter-widgets/base",
      "model_module_version": "1.2.0",
      "model_name": "LayoutModel",
      "state": {}
     },
     "28665fb75b04417ca8c78ca4cd6d278c": {
      "model_module": "@jupyter-widgets/base",
      "model_module_version": "1.2.0",
      "model_name": "LayoutModel",
      "state": {}
     },
     "28c6334b0012456790b35da8783baac8": {
      "model_module": "@jupyter-widgets/controls",
      "model_module_version": "1.5.0",
      "model_name": "DescriptionStyleModel",
      "state": {
       "description_width": ""
      }
     },
     "28c6a747efb24e31aba3191c4d266dcc": {
      "model_module": "@jupyter-widgets/controls",
      "model_module_version": "1.5.0",
      "model_name": "CheckboxModel",
      "state": {
       "description": "059_NVT",
       "disabled": false,
       "layout": "IPY_MODEL_f70a72ec7df64c17b1833d1113b0f66d",
       "style": "IPY_MODEL_6f917cc2911040ac93ec1d4ebf6439e5",
       "value": false
      }
     },
     "2a37f24bbfbc48378a46bf128c4767a3": {
      "model_module": "@jupyter-widgets/controls",
      "model_module_version": "1.5.0",
      "model_name": "CheckboxModel",
      "state": {
       "description": "032_MYUG",
       "disabled": false,
       "layout": "IPY_MODEL_4d13ea1d10d44b7ea375769a2249fc95",
       "style": "IPY_MODEL_54b0c65742314aada93b08a1a8a01e09",
       "value": false
      }
     },
     "2ea176b5b57740e9b0c4411258cad750": {
      "model_module": "@jupyter-widgets/base",
      "model_module_version": "1.2.0",
      "model_name": "LayoutModel",
      "state": {}
     },
     "325a886c2ddb4c34b390a91685fb52e1": {
      "model_module": "@jupyter-widgets/base",
      "model_module_version": "1.2.0",
      "model_name": "LayoutModel",
      "state": {}
     },
     "326573d8b5fe4d2ebf9ffc9c68a8f6d4": {
      "model_module": "@jupyter-widgets/base",
      "model_module_version": "1.2.0",
      "model_name": "LayoutModel",
      "state": {}
     },
     "32e5a82f5a4f4244ab0bf939931bcfb6": {
      "model_module": "@jupyter-widgets/controls",
      "model_module_version": "1.5.0",
      "model_name": "DescriptionStyleModel",
      "state": {
       "description_width": ""
      }
     },
     "3328cc32ea2b4ddf839eeeef1347a760": {
      "model_module": "@jupyter-widgets/controls",
      "model_module_version": "1.5.0",
      "model_name": "FloatProgressModel",
      "state": {
       "bar_style": "success",
       "layout": "IPY_MODEL_6419cf37c7174a7390bdb0224b7f44a5",
       "max": 1,
       "style": "IPY_MODEL_9c658fcbb1a44dcab62c47b89a42a47e",
       "value": 1
      }
     },
     "35cce043f7164b7ab72659730f4f89c8": {
      "model_module": "@jupyter-widgets/controls",
      "model_module_version": "1.5.0",
      "model_name": "DescriptionStyleModel",
      "state": {
       "description_width": ""
      }
     },
     "36c62b4a432444f38997b2e36d846a4d": {
      "model_module": "@jupyter-widgets/base",
      "model_module_version": "1.2.0",
      "model_name": "LayoutModel",
      "state": {
       "flex": "2"
      }
     },
     "3ad39e065b164ad58e6cb743c106586d": {
      "model_module": "@jupyter-widgets/controls",
      "model_module_version": "1.5.0",
      "model_name": "DescriptionStyleModel",
      "state": {
       "description_width": ""
      }
     },
     "3adce86d96b044f6bd712f9734093e50": {
      "model_module": "@jupyter-widgets/controls",
      "model_module_version": "1.5.0",
      "model_name": "DescriptionStyleModel",
      "state": {
       "description_width": ""
      }
     },
     "3baee465015d416c9ef741a4524f73dd": {
      "model_module": "@jupyter-widgets/base",
      "model_module_version": "1.2.0",
      "model_name": "LayoutModel",
      "state": {}
     },
     "43db09b06d8e42eabdcfedc8789c380f": {
      "model_module": "@jupyter-widgets/controls",
      "model_module_version": "1.5.0",
      "model_name": "DescriptionStyleModel",
      "state": {
       "description_width": ""
      }
     },
     "445b10536af24382a2c8ce72ad9a9c9f": {
      "model_module": "@jupyter-widgets/controls",
      "model_module_version": "1.5.0",
      "model_name": "CheckboxModel",
      "state": {
       "description": "SHOW",
       "disabled": false,
       "layout": "IPY_MODEL_ba4b6e817bab4307819f432c20605299",
       "style": "IPY_MODEL_d5f4af689d9c4080863eec792bb626d4",
       "value": true
      }
     },
     "45a6d2a568064c1eb47bad1367f6e044": {
      "model_module": "@jupyter-widgets/base",
      "model_module_version": "1.2.0",
      "model_name": "LayoutModel",
      "state": {}
     },
     "45bca7c567ce4efaaff7b54950f29876": {
      "model_module": "@jupyter-widgets/controls",
      "model_module_version": "1.5.0",
      "model_name": "CheckboxModel",
      "state": {
       "description": "049_ZAPZIM",
       "disabled": false,
       "layout": "IPY_MODEL_b608fc9a01424f4c9457285dd4fdeb5a",
       "style": "IPY_MODEL_28c6334b0012456790b35da8783baac8",
       "value": false
      }
     },
     "4637131630de48db85963de415d41e0f": {
      "model_module": "@jupyter-widgets/base",
      "model_module_version": "1.2.0",
      "model_name": "LayoutModel",
      "state": {}
     },
     "49a65d5fc0534f00a3d5f7d61134ff74": {
      "model_module": "@jupyter-widgets/controls",
      "model_module_version": "1.5.0",
      "model_name": "CheckboxModel",
      "state": {
       "description": "033_SAMBURG",
       "disabled": false,
       "layout": "IPY_MODEL_f77ad19ee0dd4e16932c302f1c511d61",
       "style": "IPY_MODEL_bd8d6ecdf2094e15beea2892fd62ffc2",
       "value": false
      }
     },
     "4d13ea1d10d44b7ea375769a2249fc95": {
      "model_module": "@jupyter-widgets/base",
      "model_module_version": "1.2.0",
      "model_name": "LayoutModel",
      "state": {}
     },
     "4e21ea5ddab54492bda14752f7622430": {
      "model_module": "@jupyter-widgets/base",
      "model_module_version": "1.2.0",
      "model_name": "LayoutModel",
      "state": {
       "display": "inline-flex",
       "flex_flow": "row wrap",
       "width": "800px"
      }
     },
     "5292d3f1045c4708b7ffc2eb12951bb4": {
      "model_module": "@jupyter-widgets/base",
      "model_module_version": "1.2.0",
      "model_name": "LayoutModel",
      "state": {}
     },
     "533ab0d3e60649ca8f9fdd587ec2ef28": {
      "model_module": "@jupyter-widgets/controls",
      "model_module_version": "1.5.0",
      "model_name": "CheckboxModel",
      "state": {
       "description": "001_ETP",
       "disabled": false,
       "layout": "IPY_MODEL_c916b686b0e64066944a13eddbdad834",
       "style": "IPY_MODEL_65270ceb181e462697e82fc917ce6121",
       "value": false
      }
     },
     "54b0c65742314aada93b08a1a8a01e09": {
      "model_module": "@jupyter-widgets/controls",
      "model_module_version": "1.5.0",
      "model_name": "DescriptionStyleModel",
      "state": {
       "description_width": ""
      }
     },
     "5de12ba8ce1847e987254fb9dfec8980": {
      "model_module": "@jupyter-widgets/controls",
      "model_module_version": "1.5.0",
      "model_name": "DescriptionStyleModel",
      "state": {
       "description_width": ""
      }
     },
     "5e3063ecfba94aa18c06e06b777dc909": {
      "model_module": "@jupyter-widgets/controls",
      "model_module_version": "1.5.0",
      "model_name": "DescriptionStyleModel",
      "state": {
       "description_width": ""
      }
     },
     "6045c11e46ad471f97fbd37a6793e350": {
      "model_module": "@jupyter-widgets/controls",
      "model_module_version": "1.5.0",
      "model_name": "CheckboxModel",
      "state": {
       "description": "048_VENGAYKHA",
       "disabled": false,
       "layout": "IPY_MODEL_1fc277d7b35f42a0b7218ebe0b944cb7",
       "style": "IPY_MODEL_d420ee6063364dfdadf0b27e0d700cf7",
       "value": false
      }
     },
     "6419cf37c7174a7390bdb0224b7f44a5": {
      "model_module": "@jupyter-widgets/base",
      "model_module_version": "1.2.0",
      "model_name": "LayoutModel",
      "state": {
       "flex": "2"
      }
     },
     "65270ceb181e462697e82fc917ce6121": {
      "model_module": "@jupyter-widgets/controls",
      "model_module_version": "1.5.0",
      "model_name": "DescriptionStyleModel",
      "state": {
       "description_width": ""
      }
     },
     "653084d8d4ba4843a0223478915827ef": {
      "model_module": "@jupyter-widgets/controls",
      "model_module_version": "1.5.0",
      "model_name": "FloatProgressModel",
      "state": {
       "bar_style": "danger",
       "layout": "IPY_MODEL_c17c8182fdb949108c1553cdd22bdbc9",
       "max": 1,
       "style": "IPY_MODEL_02b484c6225e4a88aae800db4e907fc9"
      }
     },
     "65ddf8e370424b4090ca9f0f7fe6086f": {
      "model_module": "@jupyter-widgets/controls",
      "model_module_version": "1.5.0",
      "model_name": "HBoxModel",
      "state": {
       "children": [
        "IPY_MODEL_9b9cd6b15e854c9187c88474f91b009c",
        "IPY_MODEL_3328cc32ea2b4ddf839eeeef1347a760",
        "IPY_MODEL_ebc776cad43b4ba68b45482368f18a7b"
       ],
       "layout": "IPY_MODEL_0978337f2db241f8a1818d79aabf30d0"
      }
     },
     "6c32821931a14b2f9d2f158b060dabfd": {
      "model_module": "@jupyter-widgets/base",
      "model_module_version": "1.2.0",
      "model_name": "LayoutModel",
      "state": {}
     },
     "6f917cc2911040ac93ec1d4ebf6439e5": {
      "model_module": "@jupyter-widgets/controls",
      "model_module_version": "1.5.0",
      "model_name": "DescriptionStyleModel",
      "state": {
       "description_width": ""
      }
     },
     "712485f7f239435693b4edd55d541797": {
      "model_module": "@jupyter-widgets/controls",
      "model_module_version": "1.5.0",
      "model_name": "CheckboxModel",
      "state": {
       "description": "062_VYNGYPUR",
       "disabled": false,
       "layout": "IPY_MODEL_7a28d45c1ea249bc84da46464cc6ad9c",
       "style": "IPY_MODEL_8756c9d27ce040418173a1457a7e1eb3",
       "value": false
      }
     },
     "71d8c10c32c949f68b85b043de3ccb7d": {
      "model_module": "@jupyter-widgets/controls",
      "model_module_version": "1.5.0",
      "model_name": "ProgressStyleModel",
      "state": {
       "description_width": ""
      }
     },
     "7335bffb58534a9eadc441c7a3acce2f": {
      "model_module": "@jupyter-widgets/controls",
      "model_module_version": "1.5.0",
      "model_name": "CheckboxModel",
      "state": {
       "description": "All",
       "disabled": false,
       "layout": "IPY_MODEL_80c2c9b274d743ae8e3561f14338e1a5",
       "style": "IPY_MODEL_9e103d3445934907806d4cba620d9c38",
       "value": false
      }
     },
     "782162501bd24ad9903a8cdc93a41790": {
      "model_module": "@jupyter-widgets/base",
      "model_module_version": "1.2.0",
      "model_name": "LayoutModel",
      "state": {}
     },
     "79aaa3c1dca04f1380bf66b3ac46ad80": {
      "model_module": "@jupyter-widgets/controls",
      "model_module_version": "1.5.0",
      "model_name": "CheckboxModel",
      "state": {
       "description": "006_TAYLAKOVSKY",
       "disabled": false,
       "layout": "IPY_MODEL_45a6d2a568064c1eb47bad1367f6e044",
       "style": "IPY_MODEL_1011e2c47c1a4de4be2ea7c883421a28",
       "value": false
      }
     },
     "7a28d45c1ea249bc84da46464cc6ad9c": {
      "model_module": "@jupyter-widgets/base",
      "model_module_version": "1.2.0",
      "model_name": "LayoutModel",
      "state": {}
     },
     "7ad019c0ffba496aa814b67bb9acf8e9": {
      "model_module": "@jupyter-widgets/controls",
      "model_module_version": "1.5.0",
      "model_name": "HTMLModel",
      "state": {
       "layout": "IPY_MODEL_bda701ee756b45fe987aa4a1df65f79b",
       "style": "IPY_MODEL_3ad39e065b164ad58e6cb743c106586d",
       "value": "  0%"
      }
     },
     "7ce8d4b761934044968dc79c44de3158": {
      "model_module": "@jupyter-widgets/controls",
      "model_module_version": "1.5.0",
      "model_name": "DescriptionStyleModel",
      "state": {
       "description_width": ""
      }
     },
     "7df3367c1e6e46ea812de295d4527735": {
      "model_module": "@jupyter-widgets/controls",
      "model_module_version": "1.5.0",
      "model_name": "DescriptionStyleModel",
      "state": {
       "description_width": ""
      }
     },
     "7ef7be6aeb304902be213d989e9b74a6": {
      "model_module": "@jupyter-widgets/base",
      "model_module_version": "1.2.0",
      "model_name": "LayoutModel",
      "state": {}
     },
     "80953ce95b2a4298b8e479d7e80f0422": {
      "model_module": "@jupyter-widgets/controls",
      "model_module_version": "1.5.0",
      "model_name": "HBoxModel",
      "state": {
       "children": [
        "IPY_MODEL_7ad019c0ffba496aa814b67bb9acf8e9",
        "IPY_MODEL_653084d8d4ba4843a0223478915827ef",
        "IPY_MODEL_feb25081a2634374ba3d7c11d0824f09"
       ],
       "layout": "IPY_MODEL_8d8688f934ff4a8a88e0704d36e335e7"
      }
     },
     "80c2c9b274d743ae8e3561f14338e1a5": {
      "model_module": "@jupyter-widgets/base",
      "model_module_version": "1.2.0",
      "model_name": "LayoutModel",
      "state": {}
     },
     "8756c9d27ce040418173a1457a7e1eb3": {
      "model_module": "@jupyter-widgets/controls",
      "model_module_version": "1.5.0",
      "model_name": "DescriptionStyleModel",
      "state": {
       "description_width": ""
      }
     },
     "8aef45b50f2b42108ddc8a66c6a9e24f": {
      "model_module": "@jupyter-widgets/base",
      "model_module_version": "1.2.0",
      "model_name": "LayoutModel",
      "state": {
       "flex": "2"
      }
     },
     "8d8688f934ff4a8a88e0704d36e335e7": {
      "model_module": "@jupyter-widgets/base",
      "model_module_version": "1.2.0",
      "model_name": "LayoutModel",
      "state": {
       "display": "inline-flex",
       "flex_flow": "row wrap",
       "width": "1100px"
      }
     },
     "8dab32c7094846f9b0f4f6daf81d0069": {
      "model_module": "@jupyter-widgets/base",
      "model_module_version": "1.2.0",
      "model_name": "LayoutModel",
      "state": {}
     },
     "8dc092d700854745978d0fe98ce4c4f7": {
      "model_module": "@jupyter-widgets/controls",
      "model_module_version": "1.5.0",
      "model_name": "DescriptionStyleModel",
      "state": {
       "description_width": ""
      }
     },
     "8eba7e3be6ae4bffbb837f0060bcce4d": {
      "model_module": "@jupyter-widgets/controls",
      "model_module_version": "1.5.0",
      "model_name": "HTMLModel",
      "state": {
       "layout": "IPY_MODEL_24b53a32142744b19e805d12bd50c8ad",
       "style": "IPY_MODEL_8dc092d700854745978d0fe98ce4c4f7",
       "value": " 515460/515460 [00:08&lt;00:00, 59688.44it/s]"
      }
     },
     "902890189274440dbde76c4ce30dc434": {
      "model_module": "@jupyter-widgets/controls",
      "model_module_version": "1.5.0",
      "model_name": "FloatProgressModel",
      "state": {
       "bar_style": "success",
       "layout": "IPY_MODEL_8aef45b50f2b42108ddc8a66c6a9e24f",
       "max": 515460,
       "style": "IPY_MODEL_e643b45098f74fb287a2d131855483b3",
       "value": 515460
      }
     },
     "911ba56e2dec4a4a93c748201bb7b37e": {
      "model_module": "@jupyter-widgets/controls",
      "model_module_version": "1.5.0",
      "model_name": "CheckboxModel",
      "state": {
       "description": "DRY RUN",
       "disabled": false,
       "layout": "IPY_MODEL_cb8b28001976426caa60b8962dc150cc",
       "style": "IPY_MODEL_35cce043f7164b7ab72659730f4f89c8",
       "value": false
      }
     },
     "96c373c422d94830a694ad08c5e3c816": {
      "model_module": "@jupyter-widgets/base",
      "model_module_version": "1.2.0",
      "model_name": "LayoutModel",
      "state": {}
     },
     "987a01f1caaa4f548c2102fdb1bef999": {
      "model_module": "@jupyter-widgets/controls",
      "model_module_version": "1.5.0",
      "model_name": "CheckboxModel",
      "state": {
       "description": "038_ACHIM",
       "disabled": false,
       "layout": "IPY_MODEL_f138595a8eb649aa82a68c189b197017",
       "style": "IPY_MODEL_43db09b06d8e42eabdcfedc8789c380f",
       "value": true
      }
     },
     "9b9cd6b15e854c9187c88474f91b009c": {
      "model_module": "@jupyter-widgets/controls",
      "model_module_version": "1.5.0",
      "model_name": "HTMLModel",
      "state": {
       "layout": "IPY_MODEL_96c373c422d94830a694ad08c5e3c816",
       "style": "IPY_MODEL_5de12ba8ce1847e987254fb9dfec8980",
       "value": "100%"
      }
     },
     "9c658fcbb1a44dcab62c47b89a42a47e": {
      "model_module": "@jupyter-widgets/controls",
      "model_module_version": "1.5.0",
      "model_name": "ProgressStyleModel",
      "state": {
       "description_width": ""
      }
     },
     "9d6399281e8c4d85bef1348cfca7361e": {
      "model_module": "@jupyter-widgets/base",
      "model_module_version": "1.2.0",
      "model_name": "LayoutModel",
      "state": {}
     },
     "9e103d3445934907806d4cba620d9c38": {
      "model_module": "@jupyter-widgets/controls",
      "model_module_version": "1.5.0",
      "model_name": "DescriptionStyleModel",
      "state": {
       "description_width": ""
      }
     },
     "9f8a4497950c48d68bbd85001b5e14a7": {
      "model_module": "@jupyter-widgets/controls",
      "model_module_version": "1.5.0",
      "model_name": "DescriptionStyleModel",
      "state": {
       "description_width": ""
      }
     },
     "a09bcf77c94b4da7aa1d1313042c6671": {
      "model_module": "@jupyter-widgets/controls",
      "model_module_version": "1.5.0",
      "model_name": "DescriptionStyleModel",
      "state": {
       "description_width": ""
      }
     },
     "a0e7f63072664e9aa7e779ed3920b1b6": {
      "model_module": "@jupyter-widgets/controls",
      "model_module_version": "1.5.0",
      "model_name": "CheckboxModel",
      "state": {
       "description": "031_CHIST",
       "disabled": false,
       "layout": "IPY_MODEL_2ea176b5b57740e9b0c4411258cad750",
       "style": "IPY_MODEL_00ea8b08477b43fd80cd95b348b76e9b",
       "value": false
      }
     },
     "a140fa6385794bceafbef185d088742a": {
      "model_module": "@jupyter-widgets/base",
      "model_module_version": "1.2.0",
      "model_name": "LayoutModel",
      "state": {}
     },
     "a53d45e6ae1e4454b4afccd230d1c7eb": {
      "model_module": "@jupyter-widgets/controls",
      "model_module_version": "1.5.0",
      "model_name": "CheckboxModel",
      "state": {
       "description": "039_YY",
       "disabled": false,
       "layout": "IPY_MODEL_28665fb75b04417ca8c78ca4cd6d278c",
       "style": "IPY_MODEL_9f8a4497950c48d68bbd85001b5e14a7",
       "value": false
      }
     },
     "a7305d869fa3486fae6bf57c56e3d13c": {
      "model_module": "@jupyter-widgets/controls",
      "model_module_version": "1.5.0",
      "model_name": "DescriptionStyleModel",
      "state": {
       "description_width": ""
      }
     },
     "ab064855ce994deca46e484068c12235": {
      "model_module": "@jupyter-widgets/controls",
      "model_module_version": "1.5.0",
      "model_name": "HBoxModel",
      "state": {
       "children": [
        "IPY_MODEL_ae299b9299ad4ef585b5bc252ed9ddea",
        "IPY_MODEL_902890189274440dbde76c4ce30dc434",
        "IPY_MODEL_8eba7e3be6ae4bffbb837f0060bcce4d"
       ],
       "layout": "IPY_MODEL_4e21ea5ddab54492bda14752f7622430"
      }
     },
     "ad481d2d2d724a959e4fe403837c8b1c": {
      "model_module": "@jupyter-widgets/output",
      "model_module_version": "1.0.0",
      "model_name": "OutputModel",
      "state": {
       "layout": "IPY_MODEL_6c32821931a14b2f9d2f158b060dabfd"
      }
     },
     "ad4f9f05caf040a2ab6671644fe76b9e": {
      "model_module": "@jupyter-widgets/controls",
      "model_module_version": "1.5.0",
      "model_name": "CheckboxModel",
      "state": {
       "description": "063_VYNGYPUR",
       "disabled": false,
       "layout": "IPY_MODEL_f75f24335d46439c83ae8865a6c57276",
       "style": "IPY_MODEL_5e3063ecfba94aa18c06e06b777dc909",
       "value": false
      }
     },
     "adc1718b54e44909a6a31294113459eb": {
      "model_module": "@jupyter-widgets/controls",
      "model_module_version": "1.5.0",
      "model_name": "CheckboxModel",
      "state": {
       "description": "All",
       "disabled": false,
       "layout": "IPY_MODEL_27f6ac0e1feb419083610f76a7c47d4b",
       "style": "IPY_MODEL_7ce8d4b761934044968dc79c44de3158",
       "value": false
      }
     },
     "ae299b9299ad4ef585b5bc252ed9ddea": {
      "model_module": "@jupyter-widgets/controls",
      "model_module_version": "1.5.0",
      "model_name": "HTMLModel",
      "state": {
       "layout": "IPY_MODEL_3baee465015d416c9ef741a4524f73dd",
       "style": "IPY_MODEL_a09bcf77c94b4da7aa1d1313042c6671",
       "value": "Finding min/max: 100%"
      }
     },
     "b0ac7ecc35ad4f21920214e7b15374ee": {
      "model_module": "@jupyter-widgets/base",
      "model_module_version": "1.2.0",
      "model_name": "LayoutModel",
      "state": {}
     },
     "b34b751acbb443ed8980874b0537fe5a": {
      "model_module": "@jupyter-widgets/controls",
      "model_module_version": "1.5.0",
      "model_name": "DescriptionStyleModel",
      "state": {
       "description_width": ""
      }
     },
     "b5dff671395743209e3c39c9fefee221": {
      "model_module": "@jupyter-widgets/controls",
      "model_module_version": "1.5.0",
      "model_name": "DescriptionStyleModel",
      "state": {
       "description_width": ""
      }
     },
     "b608fc9a01424f4c9457285dd4fdeb5a": {
      "model_module": "@jupyter-widgets/base",
      "model_module_version": "1.2.0",
      "model_name": "LayoutModel",
      "state": {}
     },
     "b89e9a063cee4149bdae90a9b7e81951": {
      "model_module": "@jupyter-widgets/controls",
      "model_module_version": "1.5.0",
      "model_name": "CheckboxModel",
      "state": {
       "description": "043_KARAM",
       "disabled": false,
       "layout": "IPY_MODEL_eb8fa7b758d64fad9861e8a8534f674b",
       "style": "IPY_MODEL_be2f6dac5ecb480aae49b742875ec614",
       "value": false
      }
     },
     "b90dc993f81f4b0b8fc9d38ce3e14daa": {
      "model_module": "@jupyter-widgets/controls",
      "model_module_version": "1.5.0",
      "model_name": "CheckboxModel",
      "state": {
       "description": "047_VYNGYPUR",
       "disabled": false,
       "layout": "IPY_MODEL_4637131630de48db85963de415d41e0f",
       "style": "IPY_MODEL_3adce86d96b044f6bd712f9734093e50",
       "value": false
      }
     },
     "ba0bc765898345d2ad1d1707e343cca0": {
      "model_module": "@jupyter-widgets/controls",
      "model_module_version": "1.5.0",
      "model_name": "CheckboxModel",
      "state": {
       "description": "028_SAMBURG",
       "disabled": false,
       "layout": "IPY_MODEL_326573d8b5fe4d2ebf9ffc9c68a8f6d4",
       "style": "IPY_MODEL_dc29739546c749b990ede48a180dc6a7",
       "value": false
      }
     },
     "ba4b6e817bab4307819f432c20605299": {
      "model_module": "@jupyter-widgets/base",
      "model_module_version": "1.2.0",
      "model_name": "LayoutModel",
      "state": {}
     },
     "bcbdf8cca0374bfb9dc8b2389ca883c6": {
      "model_module": "@jupyter-widgets/controls",
      "model_module_version": "1.5.0",
      "model_name": "DescriptionStyleModel",
      "state": {
       "description_width": ""
      }
     },
     "bd8d6ecdf2094e15beea2892fd62ffc2": {
      "model_module": "@jupyter-widgets/controls",
      "model_module_version": "1.5.0",
      "model_name": "DescriptionStyleModel",
      "state": {
       "description_width": ""
      }
     },
     "bda701ee756b45fe987aa4a1df65f79b": {
      "model_module": "@jupyter-widgets/base",
      "model_module_version": "1.2.0",
      "model_name": "LayoutModel",
      "state": {}
     },
     "be2f6dac5ecb480aae49b742875ec614": {
      "model_module": "@jupyter-widgets/controls",
      "model_module_version": "1.5.0",
      "model_name": "DescriptionStyleModel",
      "state": {
       "description_width": ""
      }
     },
     "c17c8182fdb949108c1553cdd22bdbc9": {
      "model_module": "@jupyter-widgets/base",
      "model_module_version": "1.2.0",
      "model_name": "LayoutModel",
      "state": {
       "flex": "2"
      }
     },
     "c3008342400e44e0a6c822fc074f53a6": {
      "model_module": "@jupyter-widgets/base",
      "model_module_version": "1.2.0",
      "model_name": "LayoutModel",
      "state": {}
     },
     "c5afd44d31304bde96b018fe8256301a": {
      "model_module": "@jupyter-widgets/controls",
      "model_module_version": "1.5.0",
      "model_name": "HBoxModel",
      "state": {
       "children": [
        "IPY_MODEL_e95f4789466141129f5a5d090344f28c",
        "IPY_MODEL_0dd6914d76914155bf8d0607492eb54f",
        "IPY_MODEL_e7272c8cfbf14019b36be004453d20ff"
       ],
       "layout": "IPY_MODEL_ded93481e48b452f95eb457d590a6fdc"
      }
     },
     "c6a13ae59e004dd09af0337beb2247e2": {
      "model_module": "@jupyter-widgets/controls",
      "model_module_version": "1.5.0",
      "model_name": "CheckboxModel",
      "state": {
       "description": "042_ZAPZIM",
       "disabled": false,
       "layout": "IPY_MODEL_ef6ad8355f3f4d86aac690cf731e122a",
       "style": "IPY_MODEL_e35015bbf6d24b59a0ca2dd61de6e274",
       "value": false
      }
     },
     "c916b686b0e64066944a13eddbdad834": {
      "model_module": "@jupyter-widgets/base",
      "model_module_version": "1.2.0",
      "model_name": "LayoutModel",
      "state": {}
     },
     "cb8b28001976426caa60b8962dc150cc": {
      "model_module": "@jupyter-widgets/base",
      "model_module_version": "1.2.0",
      "model_name": "LayoutModel",
      "state": {}
     },
     "d1de06d904b944a68b7d0ce6bf728a6c": {
      "model_module": "@jupyter-widgets/controls",
      "model_module_version": "1.5.0",
      "model_name": "CheckboxModel",
      "state": {
       "description": "058_VYNGYPUR",
       "disabled": false,
       "layout": "IPY_MODEL_c3008342400e44e0a6c822fc074f53a6",
       "style": "IPY_MODEL_b5dff671395743209e3c39c9fefee221",
       "value": false
      }
     },
     "d420ee6063364dfdadf0b27e0d700cf7": {
      "model_module": "@jupyter-widgets/controls",
      "model_module_version": "1.5.0",
      "model_name": "DescriptionStyleModel",
      "state": {
       "description_width": ""
      }
     },
     "d5f4af689d9c4080863eec792bb626d4": {
      "model_module": "@jupyter-widgets/controls",
      "model_module_version": "1.5.0",
      "model_name": "DescriptionStyleModel",
      "state": {
       "description_width": ""
      }
     },
     "d74adfc701a54463b7cf16590e5df4d6": {
      "model_module": "@jupyter-widgets/base",
      "model_module_version": "1.2.0",
      "model_name": "LayoutModel",
      "state": {}
     },
     "d9b509cb57f147cfbabc685d8aa01bfd": {
      "model_module": "@jupyter-widgets/base",
      "model_module_version": "1.2.0",
      "model_name": "LayoutModel",
      "state": {}
     },
     "d9d782c8e0d443ad962fafbfe47f6bda": {
      "model_module": "@jupyter-widgets/controls",
      "model_module_version": "1.5.0",
      "model_name": "CheckboxModel",
      "state": {
       "description": "040_KET",
       "disabled": false,
       "layout": "IPY_MODEL_325a886c2ddb4c34b390a91685fb52e1",
       "style": "IPY_MODEL_a7305d869fa3486fae6bf57c56e3d13c",
       "value": false
      }
     },
     "dc29739546c749b990ede48a180dc6a7": {
      "model_module": "@jupyter-widgets/controls",
      "model_module_version": "1.5.0",
      "model_name": "DescriptionStyleModel",
      "state": {
       "description_width": ""
      }
     },
     "dd56f3f1a2d94e1ca3222fc25cd21c5d": {
      "model_module": "@jupyter-widgets/controls",
      "model_module_version": "1.5.0",
      "model_name": "CheckboxModel",
      "state": {
       "description": "RECREATE",
       "disabled": false,
       "layout": "IPY_MODEL_782162501bd24ad9903a8cdc93a41790",
       "style": "IPY_MODEL_32e5a82f5a4f4244ab0bf939931bcfb6",
       "value": false
      }
     },
     "ded93481e48b452f95eb457d590a6fdc": {
      "model_module": "@jupyter-widgets/base",
      "model_module_version": "1.2.0",
      "model_name": "LayoutModel",
      "state": {
       "display": "inline-flex",
       "flex_flow": "row wrap",
       "width": "800px"
      }
     },
     "def23631e117425894967fbe2ca8ebc8": {
      "model_module": "@jupyter-widgets/controls",
      "model_module_version": "1.5.0",
      "model_name": "DescriptionStyleModel",
      "state": {
       "description_width": ""
      }
     },
     "e266cdb7a08b4bbc8295cdb78a8f54ce": {
      "model_module": "@jupyter-widgets/controls",
      "model_module_version": "1.5.0",
      "model_name": "DescriptionStyleModel",
      "state": {
       "description_width": ""
      }
     },
     "e35015bbf6d24b59a0ca2dd61de6e274": {
      "model_module": "@jupyter-widgets/controls",
      "model_module_version": "1.5.0",
      "model_name": "DescriptionStyleModel",
      "state": {
       "description_width": ""
      }
     },
     "e5bdef480111416092b0f168fca0d61b": {
      "model_module": "@jupyter-widgets/controls",
      "model_module_version": "1.5.0",
      "model_name": "DescriptionStyleModel",
      "state": {
       "description_width": ""
      }
     },
     "e643b45098f74fb287a2d131855483b3": {
      "model_module": "@jupyter-widgets/controls",
      "model_module_version": "1.5.0",
      "model_name": "ProgressStyleModel",
      "state": {
       "description_width": ""
      }
     },
     "e69b6179940f474ea07d4859467eb923": {
      "model_module": "@jupyter-widgets/controls",
      "model_module_version": "1.5.0",
      "model_name": "CheckboxModel",
      "state": {
       "description": "065_SALYM",
       "disabled": false,
       "layout": "IPY_MODEL_a140fa6385794bceafbef185d088742a",
       "style": "IPY_MODEL_def23631e117425894967fbe2ca8ebc8",
       "value": false
      }
     },
     "e7272c8cfbf14019b36be004453d20ff": {
      "model_module": "@jupyter-widgets/controls",
      "model_module_version": "1.5.0",
      "model_name": "HTMLModel",
      "state": {
       "layout": "IPY_MODEL_5292d3f1045c4708b7ffc2eb12951bb4",
       "style": "IPY_MODEL_b34b751acbb443ed8980874b0537fe5a",
       "value": " 251176/515460 [00:11&lt;00:12, 20544.91it/s]"
      }
     },
     "e95f4789466141129f5a5d090344f28c": {
      "model_module": "@jupyter-widgets/controls",
      "model_module_version": "1.5.0",
      "model_name": "HTMLModel",
      "state": {
       "layout": "IPY_MODEL_7ef7be6aeb304902be213d989e9b74a6",
       "style": "IPY_MODEL_bcbdf8cca0374bfb9dc8b2389ca883c6",
       "value": "Collecting stats for 038_ACHIM:  49%"
      }
     },
     "eb8fa7b758d64fad9861e8a8534f674b": {
      "model_module": "@jupyter-widgets/base",
      "model_module_version": "1.2.0",
      "model_name": "LayoutModel",
      "state": {}
     },
     "ebc776cad43b4ba68b45482368f18a7b": {
      "model_module": "@jupyter-widgets/controls",
      "model_module_version": "1.5.0",
      "model_name": "HTMLModel",
      "state": {
       "layout": "IPY_MODEL_d74adfc701a54463b7cf16590e5df4d6",
       "style": "IPY_MODEL_fe3f4dabbdb440abb15fcea77554f443",
       "value": " 1/1 [00:00&lt;00:00, 36.39it/s]"
      }
     },
     "ef6ad8355f3f4d86aac690cf731e122a": {
      "model_module": "@jupyter-widgets/base",
      "model_module_version": "1.2.0",
      "model_name": "LayoutModel",
      "state": {}
     },
     "f138595a8eb649aa82a68c189b197017": {
      "model_module": "@jupyter-widgets/base",
      "model_module_version": "1.2.0",
      "model_name": "LayoutModel",
      "state": {}
     },
     "f58b548f0bbb4af4a0a7a2dd3f5ba82b": {
      "model_module": "@jupyter-widgets/controls",
      "model_module_version": "1.5.0",
      "model_name": "CheckboxModel",
      "state": {
       "description": "046_YETYPUR",
       "disabled": false,
       "layout": "IPY_MODEL_8dab32c7094846f9b0f4f6daf81d0069",
       "style": "IPY_MODEL_7df3367c1e6e46ea812de295d4527735",
       "value": false
      }
     },
     "f70a72ec7df64c17b1833d1113b0f66d": {
      "model_module": "@jupyter-widgets/base",
      "model_module_version": "1.2.0",
      "model_name": "LayoutModel",
      "state": {}
     },
     "f75f24335d46439c83ae8865a6c57276": {
      "model_module": "@jupyter-widgets/base",
      "model_module_version": "1.2.0",
      "model_name": "LayoutModel",
      "state": {}
     },
     "f77ad19ee0dd4e16932c302f1c511d61": {
      "model_module": "@jupyter-widgets/base",
      "model_module_version": "1.2.0",
      "model_name": "LayoutModel",
      "state": {}
     },
     "fe3f4dabbdb440abb15fcea77554f443": {
      "model_module": "@jupyter-widgets/controls",
      "model_module_version": "1.5.0",
      "model_name": "DescriptionStyleModel",
      "state": {
       "description_width": ""
      }
     },
     "feb25081a2634374ba3d7c11d0824f09": {
      "model_module": "@jupyter-widgets/controls",
      "model_module_version": "1.5.0",
      "model_name": "HTMLModel",
      "state": {
       "layout": "IPY_MODEL_b0ac7ecc35ad4f21920214e7b15374ee",
       "style": "IPY_MODEL_e5bdef480111416092b0f168fca0d61b",
       "value": " 0/1 [00:20&lt;?, ?it/s]"
      }
     },
     "ffac2f107a0444c489c687b4c8bef6b2": {
      "model_module": "@jupyter-widgets/controls",
      "model_module_version": "1.5.0",
      "model_name": "DescriptionStyleModel",
      "state": {
       "description_width": ""
      }
     }
    },
    "version_major": 2,
    "version_minor": 0
   }
  }
 },
 "nbformat": 4,
 "nbformat_minor": 4
}
